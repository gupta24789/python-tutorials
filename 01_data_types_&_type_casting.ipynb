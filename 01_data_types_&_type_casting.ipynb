{
  "nbformat": 4,
  "nbformat_minor": 0,
  "metadata": {
    "colab": {
      "provenance": [],
      "authorship_tag": "ABX9TyM/C8phRvTVGJBsnwxhGUcG",
      "include_colab_link": true
    },
    "kernelspec": {
      "name": "python3",
      "display_name": "Python 3"
    },
    "language_info": {
      "name": "python"
    }
  },
  "cells": [
    {
      "cell_type": "markdown",
      "metadata": {
        "id": "view-in-github",
        "colab_type": "text"
      },
      "source": [
        "<a href=\"https://colab.research.google.com/github/gupta24789/python-tutorials/blob/main/01_data_types_%26_type_casting.ipynb\" target=\"_parent\"><img src=\"https://colab.research.google.com/assets/colab-badge.svg\" alt=\"Open In Colab\"/></a>"
      ]
    },
    {
      "cell_type": "markdown",
      "source": [
        "Python has the following data types built-in by default, in these categories:\n",
        "\n",
        "- use type() to get the data type of variable\n",
        "\n",
        "\n",
        "\n",
        "| Text Type:      | str                          |\n",
        "|-----------------|------------------------------|\n",
        "| Numeric Types:  | int, float, complex          |\n",
        "| Sequence Types: | list, tuple, range           |\n",
        "| Mapping Type:   | dict                         |\n",
        "| Set Types:      | set, frozenset               |\n",
        "| Boolean Type:   | bool                         |\n",
        "| Binary Types:   | bytes, bytearray, memoryview |\n",
        "| None Type:      | NoneType                     |"
      ],
      "metadata": {
        "id": "ZTOL_jtN1ByH"
      }
    },
    {
      "cell_type": "markdown",
      "source": [
        "| Example                                      | Data Type  |\n",
        "|----------------------------------------------|------------|\n",
        "| x = \"Hello World\"                            | str        |\n",
        "| x = 20                                       | int        |\n",
        "| x = 20.5                                     | float      |\n",
        "| x = 1j                                       | complex    |\n",
        "| x = [\"apple\", \"banana\", \"cherry\"]            | list       |\n",
        "| x = (\"apple\", \"banana\", \"cherry\")            | tuple      |\n",
        "| x = range(6)                                 | range      |\n",
        "| x = {\"name\" : \"John\", \"age\" : 36}            | dict       |\n",
        "| x = {\"apple\", \"banana\", \"cherry\"}            | set        |\n",
        "| x = frozenset({\"apple\", \"banana\", \"cherry\"}) | frozenset  |\n",
        "| x = True                                     | bool       |\n",
        "| x = b\"Hello\"                                 | bytes      |\n",
        "| x = bytearray(5)                             | bytearray  |\n",
        "| x = memoryview(bytes(5))                     | memoryview |\n",
        "| x = None                                     | NoneType   |"
      ],
      "metadata": {
        "id": "5sl97CUN1hUA"
      }
    },
    {
      "cell_type": "markdown",
      "source": [
        "## Type casting\n",
        "\n",
        "Below are the functions used to convert one type to another\n",
        "  - int, float, complex\n",
        "  - str\n",
        "  - bool"
      ],
      "metadata": {
        "id": "T5K_BPyw4e66"
      }
    },
    {
      "cell_type": "markdown",
      "source": [
        "## Example\n",
        "\n",
        "\n",
        "|       | data type  | target data type | output |\n",
        "|-------|------------|------------------|--------|\n",
        "| a=1   | int        | float            |  1.0      |\n",
        "| a=1   | int        | complex          |  1+0j      |\n",
        "| a=1   | int        | bool             |  True      |\n",
        "| a=0   | int        | bool             |  False      |\n",
        "| a=0   | int        | str             |  \"0\"     |\n",
        "| a=1.0 | float      | int              |  1      |\n",
        "| a=1.0 | float      | complex          |   1+0j     |\n",
        "| a=1.0 | float      | str              |   \"1.0\"     |\n",
        "| a=1.0 | float      | bool             |   True     |\n",
        "| a=0.0 | float      | bool             |   False     |\n",
        "| a=\"1\" | str        | int              |     1   |\n",
        "| a=\"1\" | str        | float            |    1.0    |\n",
        "| a=\"1\" | str        | complex          |    1+0j    |\n",
        "| a=\"1\" | str        | bool             |     True   |\n",
        "| a=\"\" | str        | bool             |     False   |\n",
        "| a='a'   | str        | int            |  ValueError: invalid literal for int() with base 10: 'ab'      |\n",
        "\n"
      ],
      "metadata": {
        "id": "xpHiej4U5UEK"
      }
    },
    {
      "cell_type": "markdown",
      "source": [
        "## String\n",
        "\n",
        "- strings in Python are arrays of bytes representing unicode characters.\n",
        "- Square brackets can be used to access elements of the string.\n",
        "- index starts from 0\n",
        "\n",
        "\n",
        "#### Slicing\n",
        "- last index not included\n",
        "- index starts from 0 at the begging\n",
        "- last index starts from 1 in case of negative indexing\n",
        "\n",
        "\n",
        "### String Functions\n",
        "| Method         | Description                                                                                   |\n",
        "|----------------|-----------------------------------------------------------------------------------------------|\n",
        "| capitalize()   | Converts the first character to upper case                                                    |\n",
        "| casefold()     | Converts string into lower case                                                               |\n",
        "| center()       | Returns a centered string                                                                     |\n",
        "| count()        | Returns the number of times a specified value occurs in a string                              |\n",
        "| encode()       | Returns an encoded version of the string                                                      |\n",
        "| endswith()     | Returns true if the string ends with the specified value                                      |\n",
        "| expandtabs()   | Sets the tab size of the string                                                               |\n",
        "| find()         | Searches the string for a specified value and returns the position of where it was found      |\n",
        "| format()       | Formats specified values in a string                                                          |\n",
        "| format_map()   | Formats specified values in a string                                                          |\n",
        "| index()        | Searches the string for a specified value and returns the position of where it was found      |\n",
        "| isalnum()      | Returns True if all characters in the string are alphanumeric                                 |\n",
        "| isalpha()      | Returns True if all characters in the string are in the alphabet                              |\n",
        "| isascii()      | Returns True if all characters in the string are ascii characters                             |\n",
        "| isdecimal()    | Returns True if all characters in the string are decimals                                     |\n",
        "| isdigit()      | Returns True if all characters in the string are digits                                       |\n",
        "| isidentifier() | Returns True if the string is an identifier                                                   |\n",
        "| islower()      | Returns True if all characters in the string are lower case                                   |\n",
        "| isnumeric()    | Returns True if all characters in the string are numeric                                      |\n",
        "| isprintable()  | Returns True if all characters in the string are printable                                    |\n",
        "| isspace()      | Returns True if all characters in the string are whitespaces                                  |\n",
        "| istitle()      | Returns True if the string follows the rules of a title                                       |\n",
        "| isupper()      | Returns True if all characters in the string are upper case                                   |\n",
        "| join()         | Converts the elements of an iterable into a string                                            |\n",
        "| ljust()        | Returns a left justified version of the string                                                |\n",
        "| lower()        | Converts a string into lower case                                                             |\n",
        "| lstrip()       | Returns a left trim version of the string                                                     |\n",
        "| maketrans()    | Returns a translation table to be used in translations                                        |\n",
        "| partition()    | Returns a tuple where the string is parted into three parts                                   |\n",
        "| replace()      | Returns a string where a specified value is replaced with a specified value                   |\n",
        "| rfind()        | Searches the string for a specified value and returns the last position of where it was found |\n",
        "| rindex()       | Searches the string for a specified value and returns the last position of where it was found |\n",
        "| rjust()        | Returns a right justified version of the string                                               |\n",
        "| rpartition()   | Returns a tuple where the string is parted into three parts                                   |\n",
        "| rsplit()       | Splits the string at the specified separator, and returns a list                              |\n",
        "| rstrip()       | Returns a right trim version of the string                                                    |\n",
        "| split()        | Splits the string at the specified separator, and returns a list                              |\n",
        "| splitlines()   | Splits the string at line breaks and returns a list                                           |\n",
        "| startswith()   | Returns true if the string starts with the specified value                                    |\n",
        "| strip()        | Returns a trimmed version of the string                                                       |\n",
        "| swapcase()     | Swaps cases, lower case becomes upper case and vice versa                                     |\n",
        "| title()        | Converts the first character of each word to upper case                                       |\n",
        "| translate()    | Returns a translated string                                                                   |\n",
        "| upper()        | Converts a string into upper case                                                             |\n",
        "| zfill()        | Fills the string with a specified number of 0 values at the beginning                         |"
      ],
      "metadata": {
        "id": "NqOQSTbR9QNE"
      }
    },
    {
      "cell_type": "code",
      "source": [
        "a = \"Hello World\"\n",
        "print(a[2:7])\n",
        "print(a[-5:-2])"
      ],
      "metadata": {
        "colab": {
          "base_uri": "https://localhost:8080/"
        },
        "id": "CqZr0iAg_I-f",
        "outputId": "d9467cc1-7236-4dcf-d2b3-6fb586a782a6"
      },
      "execution_count": 28,
      "outputs": [
        {
          "output_type": "stream",
          "name": "stdout",
          "text": [
            "llo W\n",
            "Wor\n"
          ]
        }
      ]
    },
    {
      "cell_type": "markdown",
      "source": [
        "## Boolean\n",
        "\n",
        "- It has only two values True or False\n",
        "\n",
        "\n",
        "\n",
        "**Boolean variable will be True**\n",
        "  - non empty string\n",
        "  - Except zero number\n",
        "  - non empty list, tuple, dict, set"
      ],
      "metadata": {
        "id": "bPVCbimO-GOO"
      }
    }
  ]
}