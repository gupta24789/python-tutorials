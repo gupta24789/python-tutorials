{
  "nbformat": 4,
  "nbformat_minor": 0,
  "metadata": {
    "colab": {
      "provenance": [],
      "authorship_tag": "ABX9TyOIEX6rzGgVB0rkpLiUr+7A",
      "include_colab_link": true
    },
    "kernelspec": {
      "name": "python3",
      "display_name": "Python 3"
    },
    "language_info": {
      "name": "python"
    }
  },
  "cells": [
    {
      "cell_type": "markdown",
      "metadata": {
        "id": "view-in-github",
        "colab_type": "text"
      },
      "source": [
        "<a href=\"https://colab.research.google.com/github/gupta24789/python-tutorials/blob/main/02_string_formating.ipynb\" target=\"_parent\"><img src=\"https://colab.research.google.com/assets/colab-badge.svg\" alt=\"Open In Colab\"/></a>"
      ]
    },
    {
      "cell_type": "markdown",
      "source": [
        "## String formating\n",
        "\n",
        "- % operator\n",
        "- format function\n",
        "- f-Strings"
      ],
      "metadata": {
        "id": "RDiu1MkZA3Kp"
      }
    },
    {
      "cell_type": "code",
      "source": [
        "## % opeartor\n",
        "name = \"Sam\"\n",
        "print('Hello, %s' % name)"
      ],
      "metadata": {
        "colab": {
          "base_uri": "https://localhost:8080/"
        },
        "id": "FBOEnyrbBS_f",
        "outputId": "51ba1381-bfeb-4f2b-c5b7-b8535b345c50"
      },
      "execution_count": 2,
      "outputs": [
        {
          "output_type": "stream",
          "name": "stdout",
          "text": [
            "Hello, Sam\n"
          ]
        }
      ]
    },
    {
      "cell_type": "code",
      "source": [
        "## format function\n",
        "name = \"Sam\"\n",
        "print(\"Hello,{}\".format(name))\n",
        "print(\"Hello,{name}\".format(name = name))"
      ],
      "metadata": {
        "colab": {
          "base_uri": "https://localhost:8080/"
        },
        "id": "GQbqXh9hBCDq",
        "outputId": "18ab313f-163e-4501-f539-0abc0f8f6167"
      },
      "execution_count": 7,
      "outputs": [
        {
          "output_type": "stream",
          "name": "stdout",
          "text": [
            "Hello,Sam\n",
            "Hello,Sam\n"
          ]
        }
      ]
    },
    {
      "cell_type": "code",
      "source": [
        "## f-String\n",
        "name = \"Sam\"\n",
        "print(f\"Hello {name}\")"
      ],
      "metadata": {
        "colab": {
          "base_uri": "https://localhost:8080/"
        },
        "id": "FAXjShCFBQje",
        "outputId": "e705157c-c691-4056-e4f6-63f41ddcef59"
      },
      "execution_count": 8,
      "outputs": [
        {
          "output_type": "stream",
          "name": "stdout",
          "text": [
            "Hello Sam\n"
          ]
        }
      ]
    },
    {
      "cell_type": "code",
      "source": [
        "import math\n",
        "print(f'The value of pi is approximately {math.pi:.3f}.')"
      ],
      "metadata": {
        "colab": {
          "base_uri": "https://localhost:8080/"
        },
        "id": "86JkIzvQBkyI",
        "outputId": "4ef4aaed-1ff3-4819-d57b-86302b020720"
      },
      "execution_count": 9,
      "outputs": [
        {
          "output_type": "stream",
          "name": "stdout",
          "text": [
            "The value of pi is approximately 3.142.\n"
          ]
        }
      ]
    },
    {
      "cell_type": "code",
      "source": [
        "import math\n",
        "pi_value = math.pi\n",
        "print(f\"{'The value of pi is approximately':<40} {pi_value:>30.3f}\")\n",
        "print(f\"{'The value of pi is':<40} {pi_value:>30.3f}\")"
      ],
      "metadata": {
        "colab": {
          "base_uri": "https://localhost:8080/"
        },
        "id": "DwWAQfCUCFd8",
        "outputId": "c2b210e0-f0b7-4475-9570-b58f5f3dc1c5"
      },
      "execution_count": 27,
      "outputs": [
        {
          "output_type": "stream",
          "name": "stdout",
          "text": [
            "The value of pi is approximately                                  3.142\n",
            "The value of pi is                                                3.142\n"
          ]
        }
      ]
    }
  ]
}