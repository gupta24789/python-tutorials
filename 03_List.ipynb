{
  "nbformat": 4,
  "nbformat_minor": 0,
  "metadata": {
    "colab": {
      "provenance": [],
      "authorship_tag": "ABX9TyMp+IXZS0BgPWAhT5g4fOms",
      "include_colab_link": true
    },
    "kernelspec": {
      "name": "python3",
      "display_name": "Python 3"
    },
    "language_info": {
      "name": "python"
    }
  },
  "cells": [
    {
      "cell_type": "markdown",
      "metadata": {
        "id": "view-in-github",
        "colab_type": "text"
      },
      "source": [
        "<a href=\"https://colab.research.google.com/github/gupta24789/python-tutorials/blob/main/03_List.ipynb\" target=\"_parent\"><img src=\"https://colab.research.google.com/assets/colab-badge.svg\" alt=\"Open In Colab\"/></a>"
      ]
    },
    {
      "cell_type": "markdown",
      "source": [
        "## There are four collection data types in the Python programming language:\n",
        "\n",
        "- List is a collection which is ordered and changeable. Allows duplicate members.\n",
        "- Tuple is a collection which is ordered and unchangeable. Allows duplicate members.\n",
        "- Set is a collection which is unordered, unchangeable*, and unindexed. No duplicate members.\n",
        "- Dictionary is a collection which is ordered** and changeable. No duplicate members.\n",
        "\n",
        "\n",
        "\n",
        "## List\n",
        "\n",
        "- used to store multiple items in a single variable.\n",
        "- items are ordered, changeable, and allow duplicate values.\n",
        "- first item has index [0]\n",
        "- List items can be of any data type\n",
        "- data type is <class 'list'>\n",
        "- you can use square brackets and list constructor to create list object.\n",
        "\n",
        "\n",
        "\n",
        "### List Method\n",
        "| Method    | Description                                                                  |   |\n",
        "|-----------|------------------------------------------------------------------------------|---|\n",
        "| append()  | Adds an element at the end of the list                                       |   |\n",
        "| clear()   | Removes all the elements from the list                                       |   |\n",
        "| copy()    | Returns a copy of the list                                                   |   |\n",
        "| count()   | Returns the number of elements with the specified value                      |   |\n",
        "| extend()  | Add the elements of a list (or any iterable), to the end of the current list |   |\n",
        "| index()   | Returns the index of the first element with the specified value              |   |\n",
        "| insert()  | Adds an element at the specified position                                    |   |\n",
        "| pop()     | Removes the element at the specified position                                |   |\n",
        "| remove()  | Removes the item with the specified value                                    |   |\n",
        "| reverse() | Reverses the order of the list                                               |   |\n",
        "| sort()    | Sorts the list                                                               |   |"
      ],
      "metadata": {
        "id": "5Xo5GdN8ERPb"
      }
    },
    {
      "cell_type": "code",
      "source": [
        "## add element\n",
        "a = [1,2,3,4,5]\n",
        "print(a)\n",
        "a.append(10)\n",
        "print(a)"
      ],
      "metadata": {
        "colab": {
          "base_uri": "https://localhost:8080/"
        },
        "id": "3ZjYlV1HGMtB",
        "outputId": "767a9306-ef8c-4b10-8825-4ed8ee55214b"
      },
      "execution_count": 3,
      "outputs": [
        {
          "output_type": "stream",
          "name": "stdout",
          "text": [
            "[1, 2, 3, 4, 5]\n",
            "[1, 2, 3, 4, 5, 10]\n"
          ]
        }
      ]
    },
    {
      "cell_type": "code",
      "source": [
        "## clear\n",
        "a = [1,2,3,4,5]\n",
        "print(a)\n",
        "a.clear()\n",
        "print(a)"
      ],
      "metadata": {
        "colab": {
          "base_uri": "https://localhost:8080/"
        },
        "id": "u_x_4KuSGWof",
        "outputId": "d6dd57cd-c4eb-4fa3-f502-182ca56c5744"
      },
      "execution_count": 4,
      "outputs": [
        {
          "output_type": "stream",
          "name": "stdout",
          "text": [
            "[1, 2, 3, 4, 5]\n",
            "[]\n"
          ]
        }
      ]
    },
    {
      "cell_type": "code",
      "source": [
        "## copy\n",
        "a = [1,2,3,4,5]\n",
        "print(a)\n",
        "b = a.copy()\n",
        "print(a)\n",
        "print(b)\n",
        "b[0] = 500\n",
        "print(a)\n",
        "print(b)"
      ],
      "metadata": {
        "colab": {
          "base_uri": "https://localhost:8080/"
        },
        "id": "9wTKwL8HGY7y",
        "outputId": "e417264e-6c73-44d7-ab0a-25d70d1b3bbf"
      },
      "execution_count": 5,
      "outputs": [
        {
          "output_type": "stream",
          "name": "stdout",
          "text": [
            "[1, 2, 3, 4, 5]\n",
            "[1, 2, 3, 4, 5]\n",
            "[1, 2, 3, 4, 5]\n",
            "[1, 2, 3, 4, 5]\n",
            "[500, 2, 3, 4, 5]\n"
          ]
        }
      ]
    },
    {
      "cell_type": "code",
      "source": [
        "## count\n",
        "a = [5,1,2,3,4,5]\n",
        "print(a)\n",
        "print(a.count(5))"
      ],
      "metadata": {
        "colab": {
          "base_uri": "https://localhost:8080/"
        },
        "id": "ijjjRl25Gf0r",
        "outputId": "d9bbdc9d-dee7-45a0-8ddb-be0da27e5b59"
      },
      "execution_count": 6,
      "outputs": [
        {
          "output_type": "stream",
          "name": "stdout",
          "text": [
            "[5, 1, 2, 3, 4, 5]\n",
            "2\n"
          ]
        }
      ]
    },
    {
      "cell_type": "code",
      "source": [
        "## reverse\n",
        "a = [5,1,2,3,4,5,6]\n",
        "print(a)\n",
        "a.reverse()\n",
        "print(a)"
      ],
      "metadata": {
        "colab": {
          "base_uri": "https://localhost:8080/"
        },
        "id": "jkik7MjlHS7s",
        "outputId": "260d3cca-2f16-4850-f912-05546155072b"
      },
      "execution_count": 9,
      "outputs": [
        {
          "output_type": "stream",
          "name": "stdout",
          "text": [
            "[5, 1, 2, 3, 4, 5, 6]\n",
            "[6, 5, 4, 3, 2, 1, 5]\n"
          ]
        }
      ]
    },
    {
      "cell_type": "code",
      "source": [
        "## sort\n",
        "a = [5,1,2,3,4,5,6]\n",
        "print(a)\n",
        "a.sort()\n",
        "print(a)"
      ],
      "metadata": {
        "colab": {
          "base_uri": "https://localhost:8080/"
        },
        "id": "3EpRGVIvHXTi",
        "outputId": "a78b46e2-5049-4d44-851a-0283193e10c0"
      },
      "execution_count": 10,
      "outputs": [
        {
          "output_type": "stream",
          "name": "stdout",
          "text": [
            "[5, 1, 2, 3, 4, 5, 6]\n",
            "[1, 2, 3, 4, 5, 5, 6]\n"
          ]
        }
      ]
    },
    {
      "cell_type": "code",
      "source": [
        "## Index\n",
        "\n",
        "a = [5,1,2,3,4,5,6]\n",
        "print(a)\n",
        "print(a.index(5))  ## always gives index of fitst element\n",
        "\n",
        "\n",
        "## calculate last index of element\n",
        "a.reverse()\n",
        "print(len(a) - a.index(5) - 1)"
      ],
      "metadata": {
        "colab": {
          "base_uri": "https://localhost:8080/"
        },
        "id": "Jd1froARGnfd",
        "outputId": "3d55ffdf-41b5-4df1-db82-75a5c506593c"
      },
      "execution_count": 12,
      "outputs": [
        {
          "output_type": "stream",
          "name": "stdout",
          "text": [
            "[5, 1, 2, 3, 4, 5, 6]\n",
            "0\n",
            "5\n"
          ]
        }
      ]
    },
    {
      "cell_type": "code",
      "source": [
        "## pop\n",
        "a = [5,1,2,3,4,5,6]\n",
        "print(a)\n",
        "popped_val = a.pop(3)\n",
        "print(a)\n",
        "print(f\"popped val : {popped_val}\")"
      ],
      "metadata": {
        "colab": {
          "base_uri": "https://localhost:8080/"
        },
        "id": "B_cwn8TEGr3U",
        "outputId": "15dd8581-139e-41b9-ac1c-a8a06b8a87a4"
      },
      "execution_count": 14,
      "outputs": [
        {
          "output_type": "stream",
          "name": "stdout",
          "text": [
            "[5, 1, 2, 3, 4, 5, 6]\n",
            "[5, 1, 2, 4, 5, 6]\n",
            "popped val : 3\n"
          ]
        }
      ]
    },
    {
      "cell_type": "code",
      "source": [
        "## insert\n",
        "a = [5,1,2,3,4,5,6]\n",
        "print(a)\n",
        "a.insert(3, 30)\n",
        "print(a)"
      ],
      "metadata": {
        "colab": {
          "base_uri": "https://localhost:8080/"
        },
        "id": "8yAj9aG5HkUa",
        "outputId": "415f0b79-dd37-47af-8c6c-6dee39bb93b0"
      },
      "execution_count": 15,
      "outputs": [
        {
          "output_type": "stream",
          "name": "stdout",
          "text": [
            "[5, 1, 2, 3, 4, 5, 6]\n",
            "[5, 1, 2, 30, 3, 4, 5, 6]\n"
          ]
        }
      ]
    },
    {
      "cell_type": "code",
      "source": [
        "## concat two list\n",
        "a = [1,2,3]\n",
        "b = [3,4,5]\n",
        "print(a)\n",
        "print(b)\n",
        "a.extend(b)\n",
        "print(a)\n",
        "print(b)"
      ],
      "metadata": {
        "colab": {
          "base_uri": "https://localhost:8080/"
        },
        "id": "8D6pJc0eIpvj",
        "outputId": "d622181c-e29f-4691-b6ed-70184fe70d20"
      },
      "execution_count": 21,
      "outputs": [
        {
          "output_type": "stream",
          "name": "stdout",
          "text": [
            "[1, 2, 3]\n",
            "[3, 4, 5]\n",
            "[1, 2, 3, 3, 4, 5]\n",
            "[3, 4, 5]\n"
          ]
        }
      ]
    },
    {
      "cell_type": "code",
      "source": [
        "## concat two list\n",
        "a = [1,2,3]\n",
        "b = [3,4,5]\n",
        "print(a)\n",
        "print(b)\n",
        "a = a+b\n",
        "print(a)\n",
        "print(b)"
      ],
      "metadata": {
        "colab": {
          "base_uri": "https://localhost:8080/"
        },
        "id": "v4tdFrl_IzVA",
        "outputId": "164a801c-0ef4-4fdd-d968-eb1bbd1e4058"
      },
      "execution_count": 22,
      "outputs": [
        {
          "output_type": "stream",
          "name": "stdout",
          "text": [
            "[1, 2, 3]\n",
            "[3, 4, 5]\n",
            "[1, 2, 3, 3, 4, 5]\n",
            "[3, 4, 5]\n"
          ]
        }
      ]
    },
    {
      "cell_type": "markdown",
      "source": [
        "## Loop through List"
      ],
      "metadata": {
        "id": "X2zN7jhQILDx"
      }
    },
    {
      "cell_type": "code",
      "source": [
        "mylist = [\"apple\", \"banana\", \"cherry\"]\n",
        "for item in mylist:\n",
        "  print(item)"
      ],
      "metadata": {
        "colab": {
          "base_uri": "https://localhost:8080/"
        },
        "id": "Z7b4UkmeINDp",
        "outputId": "c7fd8c2c-62e9-4565-a956-00c239499a3e"
      },
      "execution_count": 16,
      "outputs": [
        {
          "output_type": "stream",
          "name": "stdout",
          "text": [
            "apple\n",
            "banana\n",
            "cherry\n"
          ]
        }
      ]
    },
    {
      "cell_type": "code",
      "source": [
        "mylist = [\"apple\", \"banana\", \"cherry\"]\n",
        "for item in mylist:\n",
        "  print(item, end = ' ')"
      ],
      "metadata": {
        "colab": {
          "base_uri": "https://localhost:8080/"
        },
        "id": "JXNImVjIITof",
        "outputId": "048c7c92-aeec-4e4c-d967-94dd59727b8b"
      },
      "execution_count": 18,
      "outputs": [
        {
          "output_type": "stream",
          "name": "stdout",
          "text": [
            "apple banana cherry "
          ]
        }
      ]
    },
    {
      "cell_type": "code",
      "source": [
        "mylist = [\"apple\", \"banana\", \"cherry\"]\n",
        "for i in range(len(mylist)):\n",
        "  print(mylist[i])"
      ],
      "metadata": {
        "colab": {
          "base_uri": "https://localhost:8080/"
        },
        "id": "i3VDc6n0IVgA",
        "outputId": "0a7a4548-7c33-4e65-9728-93e0b7171aa9"
      },
      "execution_count": 19,
      "outputs": [
        {
          "output_type": "stream",
          "name": "stdout",
          "text": [
            "apple\n",
            "banana\n",
            "cherry\n"
          ]
        }
      ]
    },
    {
      "cell_type": "markdown",
      "source": [
        "## List Comprehension"
      ],
      "metadata": {
        "id": "V2ngs327Jcdc"
      }
    },
    {
      "cell_type": "code",
      "source": [
        "mylist = [1,2,3,4,5,6]\n",
        "print(mylist)\n",
        "\n",
        "## List only even numbers\n",
        "print(\"Even Number \", [num for num in mylist if num%2==0])\n",
        "print(\"Square number else number : \", [num**2 if num%2==0 else num for num in mylist ])\n",
        "print(\"Square \", [num**2 for num in mylist])"
      ],
      "metadata": {
        "colab": {
          "base_uri": "https://localhost:8080/"
        },
        "id": "hpTZ3_4rIfeH",
        "outputId": "1a289281-9ebb-47bf-e6e1-376860aa656f"
      },
      "execution_count": 32,
      "outputs": [
        {
          "output_type": "stream",
          "name": "stdout",
          "text": [
            "[1, 2, 3, 4, 5, 6]\n",
            "Even Number  [2, 4, 6]\n",
            "Square number else number :  [1, 4, 3, 16, 5, 36]\n",
            "Square  [1, 4, 9, 16, 25, 36]\n"
          ]
        }
      ]
    },
    {
      "cell_type": "code",
      "source": [
        "## nest list comprehension\n",
        "mylist = [[1,2,3],[4,5,6]]\n",
        "print(\"Square : \", [[item**2 for item in item_lst] for item_lst in mylist])"
      ],
      "metadata": {
        "colab": {
          "base_uri": "https://localhost:8080/"
        },
        "id": "WDfzOT45JpPr",
        "outputId": "8e640137-6e29-4aee-b5e0-97703c9d1743"
      },
      "execution_count": 31,
      "outputs": [
        {
          "output_type": "stream",
          "name": "stdout",
          "text": [
            "Square :  [[1, 4, 9], [16, 25, 36]]\n"
          ]
        }
      ]
    },
    {
      "cell_type": "code",
      "source": [],
      "metadata": {
        "id": "aoxzeQoOJxjP"
      },
      "execution_count": null,
      "outputs": []
    }
  ]
}