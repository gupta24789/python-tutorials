{
  "nbformat": 4,
  "nbformat_minor": 0,
  "metadata": {
    "colab": {
      "provenance": [],
      "authorship_tag": "ABX9TyO4xeaW9ZnVZ2mJA+8ZLjH5",
      "include_colab_link": true
    },
    "kernelspec": {
      "name": "python3",
      "display_name": "Python 3"
    },
    "language_info": {
      "name": "python"
    }
  },
  "cells": [
    {
      "cell_type": "markdown",
      "metadata": {
        "id": "view-in-github",
        "colab_type": "text"
      },
      "source": [
        "<a href=\"https://colab.research.google.com/github/gupta24789/python-tutorials/blob/main/05_sets.ipynb\" target=\"_parent\"><img src=\"https://colab.research.google.com/assets/colab-badge.svg\" alt=\"Open In Colab\"/></a>"
      ]
    },
    {
      "cell_type": "code",
      "execution_count": null,
      "metadata": {
        "id": "AXNN5qawz5cW"
      },
      "outputs": [],
      "source": []
    },
    {
      "cell_type": "markdown",
      "source": [
        "## Sets\n",
        "\n",
        "- used to store multiple items in a single variable.\n",
        "- set is a collection which is unordered, unchangeable*, unindexed and do not allow duplicate values .\n",
        "- Sets are written with curly brackets.\n",
        "- It is also possible to use the set() constructor to make a set.\n",
        "\n",
        "\n",
        "\n",
        "## Sets Method\n",
        "\n",
        "| Method                        | Description                                                                    |\n",
        "|-------------------------------|--------------------------------------------------------------------------------|\n",
        "| add()                         | Adds an element to the set                                                     |\n",
        "| clear()                       | Removes all the elements from the set                                          |\n",
        "| copy()                        | Returns a copy of the set                                                      |\n",
        "| difference()                  | Returns a set containing the difference between two or more sets               |\n",
        "| difference_update()           | Removes the items in this set that are also included in another, specified set |\n",
        "| discard()                     | Remove the specified item                                                      |\n",
        "| intersection()                | Returns a set, that is the intersection of two other sets                      |\n",
        "| intersection_update()         | Removes the items in this set that are not present in other, specified set(s)  |\n",
        "| isdisjoint()                  | Returns whether two sets have a intersection or not                            |\n",
        "| issubset()                    | Returns whether another set contains this set or not                           |\n",
        "| issuperset()                  | Returns whether this set contains another set or not                           |\n",
        "| pop()                         | Removes an element from the set                                                |\n",
        "| remove()                      | Removes the specified element                                                  |\n",
        "| symmetric_difference()        | Returns a set with the symmetric differences of two sets                       |\n",
        "| symmetric_difference_update() | inserts the symmetric differences from this set and another                    |\n",
        "| union()                       | Return a set containing the union of sets                                      |\n",
        "| update()                      | Update the set with the union of this set and others                           |"
      ],
      "metadata": {
        "id": "4EM-kfu10Bz8"
      }
    },
    {
      "cell_type": "markdown",
      "source": [
        "## Create Set"
      ],
      "metadata": {
        "id": "rVCJDoBW1QZb"
      }
    },
    {
      "cell_type": "code",
      "source": [
        "thisset = {\"apple\", \"banana\", \"cherry\", \"apple\"}\n",
        "print(thisset)\n",
        "print(type(thisset))"
      ],
      "metadata": {
        "colab": {
          "base_uri": "https://localhost:8080/"
        },
        "id": "u50VU_rl0ZIX",
        "outputId": "d481f99d-efcc-46b3-c776-45b02126bf30"
      },
      "execution_count": 8,
      "outputs": [
        {
          "output_type": "stream",
          "name": "stdout",
          "text": [
            "{'banana', 'apple', 'cherry'}\n",
            "<class 'set'>\n"
          ]
        }
      ]
    },
    {
      "cell_type": "code",
      "source": [
        "thisset = {\"apple\", \"banana\", \"cherry\", True, 1, 2}   ## True and 1 are same only similarity False and 0 are same\n",
        "print(thisset)"
      ],
      "metadata": {
        "colab": {
          "base_uri": "https://localhost:8080/"
        },
        "id": "FYfFIblT0ZiB",
        "outputId": "dd0ab52a-f8d8-490f-ba34-c703afd4e141"
      },
      "execution_count": 9,
      "outputs": [
        {
          "output_type": "stream",
          "name": "stdout",
          "text": [
            "{'banana', True, 2, 'cherry', 'apple'}\n"
          ]
        }
      ]
    },
    {
      "cell_type": "code",
      "source": [
        "thisset = set((1,2,3))\n",
        "print(thisset)\n",
        "print(type(thisset))"
      ],
      "metadata": {
        "colab": {
          "base_uri": "https://localhost:8080/"
        },
        "id": "m_iHkJEu1TJR",
        "outputId": "aec1ee24-8e5f-41fb-9b5d-18f40e7a8ffe"
      },
      "execution_count": 11,
      "outputs": [
        {
          "output_type": "stream",
          "name": "stdout",
          "text": [
            "{1, 2, 3}\n",
            "<class 'set'>\n"
          ]
        }
      ]
    },
    {
      "cell_type": "markdown",
      "source": [
        "## Access Set Item"
      ],
      "metadata": {
        "id": "DAQ8BSJN0_5b"
      }
    },
    {
      "cell_type": "code",
      "source": [
        "thisset = {\"apple\", \"banana\", \"cherry\"}\n",
        "\n",
        "for x in thisset:\n",
        "  print(x)"
      ],
      "metadata": {
        "colab": {
          "base_uri": "https://localhost:8080/"
        },
        "id": "apuzsp730cle",
        "outputId": "b42c64c6-f92d-4408-af43-5e111d86e206"
      },
      "execution_count": 12,
      "outputs": [
        {
          "output_type": "stream",
          "name": "stdout",
          "text": [
            "banana\n",
            "apple\n",
            "cherry\n"
          ]
        }
      ]
    },
    {
      "cell_type": "markdown",
      "source": [
        "## Methods"
      ],
      "metadata": {
        "id": "SzTR9rBZ1I6W"
      }
    },
    {
      "cell_type": "code",
      "source": [
        "## add\n",
        "myset = {1,2,3}\n",
        "print(myset)\n",
        "myset.add(4)\n",
        "print(myset)"
      ],
      "metadata": {
        "colab": {
          "base_uri": "https://localhost:8080/"
        },
        "id": "n-o2E2Cp1EJ1",
        "outputId": "15035267-69b8-4714-9182-c9ec5169fa23"
      },
      "execution_count": 13,
      "outputs": [
        {
          "output_type": "stream",
          "name": "stdout",
          "text": [
            "{1, 2, 3}\n",
            "{1, 2, 3, 4}\n"
          ]
        }
      ]
    },
    {
      "cell_type": "code",
      "source": [
        "## clear\n",
        "myset = {1,2,3}\n",
        "print(myset)\n",
        "myset.clear()\n",
        "print(myset)"
      ],
      "metadata": {
        "colab": {
          "base_uri": "https://localhost:8080/"
        },
        "id": "63f9frVG1iCB",
        "outputId": "a3cd0ae7-8254-469c-eec4-7273bc6e4be7"
      },
      "execution_count": 14,
      "outputs": [
        {
          "output_type": "stream",
          "name": "stdout",
          "text": [
            "{1, 2, 3}\n",
            "set()\n"
          ]
        }
      ]
    },
    {
      "cell_type": "code",
      "source": [
        "## update\n",
        "myset = {1,2,3}\n",
        "print(myset)\n",
        "myset.update({3,4,5})  ## adding another set\n",
        "print(myset)"
      ],
      "metadata": {
        "colab": {
          "base_uri": "https://localhost:8080/"
        },
        "id": "pE52xrLH1zRm",
        "outputId": "0d64d5bb-da1f-4d2c-d9c9-dcf7b7847cf1"
      },
      "execution_count": 15,
      "outputs": [
        {
          "output_type": "stream",
          "name": "stdout",
          "text": [
            "{1, 2, 3}\n",
            "{1, 2, 3, 4, 5}\n"
          ]
        }
      ]
    },
    {
      "cell_type": "code",
      "source": [
        "## update\n",
        "myset = {1,2,3}\n",
        "print(myset)\n",
        "myset.update([3,4,5])  ## adding list to set\n",
        "print(myset)"
      ],
      "metadata": {
        "colab": {
          "base_uri": "https://localhost:8080/"
        },
        "id": "LdTes3Ec15jF",
        "outputId": "457b46a2-d8a2-4e5d-aad5-c6a2e33f9b3b"
      },
      "execution_count": 16,
      "outputs": [
        {
          "output_type": "stream",
          "name": "stdout",
          "text": [
            "{1, 2, 3}\n",
            "{1, 2, 3, 4, 5}\n"
          ]
        }
      ]
    },
    {
      "cell_type": "code",
      "source": [
        "## remove : If the item to remove does not exist, remove() will raise an error.\n",
        "myset = {1,2,3}\n",
        "print(myset)\n",
        "myset.remove(2)\n",
        "print(myset)"
      ],
      "metadata": {
        "colab": {
          "base_uri": "https://localhost:8080/"
        },
        "id": "n32KhxrU2AT3",
        "outputId": "8a27fe85-ea1c-4404-8bd0-60ad8a40023b"
      },
      "execution_count": 17,
      "outputs": [
        {
          "output_type": "stream",
          "name": "stdout",
          "text": [
            "{1, 2, 3}\n",
            "{1, 3}\n"
          ]
        }
      ]
    },
    {
      "cell_type": "code",
      "source": [
        "## discard : If the item to remove does not exist, discard() will NOT raise an error.\n",
        "myset = {1,2,3}\n",
        "print(myset)\n",
        "myset.discard(2)\n",
        "print(myset)"
      ],
      "metadata": {
        "colab": {
          "base_uri": "https://localhost:8080/"
        },
        "id": "sgXASnMZ2HgE",
        "outputId": "d56da634-e9c6-4394-d18a-1e94e523b038"
      },
      "execution_count": 18,
      "outputs": [
        {
          "output_type": "stream",
          "name": "stdout",
          "text": [
            "{1, 2, 3}\n",
            "{1, 3}\n"
          ]
        }
      ]
    },
    {
      "cell_type": "code",
      "source": [
        "## union\n",
        "myset1 = {1,2,3}\n",
        "myset2 = {3,4,5}\n",
        "print(myset1.union(myset2))"
      ],
      "metadata": {
        "colab": {
          "base_uri": "https://localhost:8080/"
        },
        "id": "6BSzhynO2czG",
        "outputId": "56ea5d4e-cae0-4c20-8635-99d4591c3170"
      },
      "execution_count": 20,
      "outputs": [
        {
          "output_type": "stream",
          "name": "stdout",
          "text": [
            "{1, 2, 3, 4, 5}\n"
          ]
        }
      ]
    },
    {
      "cell_type": "code",
      "source": [
        "## difference\n",
        "myset1 = {1,2,3}\n",
        "myset2 = {3,4,5}\n",
        "myset1.difference(myset2)  ## no inplace update: for inplace use difference_update\n",
        "print(myset1)\n",
        "print(myset2)"
      ],
      "metadata": {
        "colab": {
          "base_uri": "https://localhost:8080/"
        },
        "id": "i0UhywED2oz-",
        "outputId": "90683d5b-9cc0-4fa5-90b9-9678cf317a5d"
      },
      "execution_count": 22,
      "outputs": [
        {
          "output_type": "stream",
          "name": "stdout",
          "text": [
            "{1, 2, 3}\n",
            "{3, 4, 5}\n"
          ]
        }
      ]
    },
    {
      "cell_type": "code",
      "source": [
        "## difference update\n",
        "myset1 = {1,2,3}\n",
        "myset2 = {3,4,5}\n",
        "myset1.difference_update(myset2)\n",
        "print(myset1)\n",
        "print(myset2)"
      ],
      "metadata": {
        "colab": {
          "base_uri": "https://localhost:8080/"
        },
        "id": "Bv4bUp8i2sB_",
        "outputId": "80e0891b-a910-414f-d382-1e4f56946bf2"
      },
      "execution_count": 23,
      "outputs": [
        {
          "output_type": "stream",
          "name": "stdout",
          "text": [
            "{1, 2}\n",
            "{3, 4, 5}\n"
          ]
        }
      ]
    },
    {
      "cell_type": "code",
      "source": [
        "## intersection\n",
        "myset1 = {1,2,3}\n",
        "myset2 = {3,4,5}\n",
        "print(myset1.intersection(myset2))"
      ],
      "metadata": {
        "colab": {
          "base_uri": "https://localhost:8080/"
        },
        "id": "FfVcxGo628bE",
        "outputId": "bb112eb1-e602-4f59-9052-dcc3b9f0b10e"
      },
      "execution_count": 24,
      "outputs": [
        {
          "output_type": "stream",
          "name": "stdout",
          "text": [
            "{3}\n"
          ]
        }
      ]
    },
    {
      "cell_type": "code",
      "source": [
        "## symmetri difference\n",
        "myset1 = {1,2,3}\n",
        "myset2 = {3,4,5}\n",
        "print(myset1.symmetric_difference(myset2))"
      ],
      "metadata": {
        "colab": {
          "base_uri": "https://localhost:8080/"
        },
        "id": "7tkpbTgS3F2X",
        "outputId": "d9324b00-6661-45ce-a4f4-722012a8e1c7"
      },
      "execution_count": 25,
      "outputs": [
        {
          "output_type": "stream",
          "name": "stdout",
          "text": [
            "{1, 2, 4, 5}\n"
          ]
        }
      ]
    },
    {
      "cell_type": "code",
      "source": [],
      "metadata": {
        "id": "A7o2hfwq3Omb"
      },
      "execution_count": null,
      "outputs": []
    }
  ]
}