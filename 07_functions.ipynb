{
  "nbformat": 4,
  "nbformat_minor": 0,
  "metadata": {
    "colab": {
      "provenance": [],
      "authorship_tag": "ABX9TyPbyzLe1o44Wm1vkeGhxi6P",
      "include_colab_link": true
    },
    "kernelspec": {
      "name": "python3",
      "display_name": "Python 3"
    },
    "language_info": {
      "name": "python"
    }
  },
  "cells": [
    {
      "cell_type": "markdown",
      "metadata": {
        "id": "view-in-github",
        "colab_type": "text"
      },
      "source": [
        "<a href=\"https://colab.research.google.com/github/gupta24789/python-tutorials/blob/main/07_functions.ipynb\" target=\"_parent\"><img src=\"https://colab.research.google.com/assets/colab-badge.svg\" alt=\"Open In Colab\"/></a>"
      ]
    },
    {
      "cell_type": "markdown",
      "source": [
        "## Functions\n",
        "\n",
        "- A function is a block of code which only runs when it is called\n",
        "- You can pass data, known as parameters, into a function\n",
        "- A function can return data as a result.\n"
      ],
      "metadata": {
        "id": "mimdEdsE6TX0"
      }
    },
    {
      "cell_type": "code",
      "source": [
        "## without parameter\n",
        "def myfunc():\n",
        "  print(\"Hello Sam\")\n",
        "\n",
        "myfunc()"
      ],
      "metadata": {
        "colab": {
          "base_uri": "https://localhost:8080/"
        },
        "id": "FT9r1UhF6iDk",
        "outputId": "e1ec91a3-9251-40a4-8435-21911d44399a"
      },
      "execution_count": 2,
      "outputs": [
        {
          "output_type": "stream",
          "name": "stdout",
          "text": [
            "Hello Sam\n"
          ]
        }
      ]
    },
    {
      "cell_type": "code",
      "source": [
        "## with parameter\n",
        "def myfunc(name):\n",
        "  print(f\"Hello {name}\")\n",
        "\n",
        "myfunc(\"Sam\") ## postional\n",
        "myfunc(name = \"Sam\") ## keyword"
      ],
      "metadata": {
        "colab": {
          "base_uri": "https://localhost:8080/"
        },
        "id": "OfolckD06oLZ",
        "outputId": "b77ce938-3b38-43ec-cc34-5d16fa181daf"
      },
      "execution_count": 13,
      "outputs": [
        {
          "output_type": "stream",
          "name": "stdout",
          "text": [
            "Hello Sam\n",
            "Hello Sam\n"
          ]
        }
      ]
    },
    {
      "cell_type": "markdown",
      "source": [
        "## Arbitary Arguments\n",
        "\n",
        "  - postional\n",
        "  - keyword\n",
        "\n",
        "\n",
        "#### Positonal Arbitary Argument\n",
        "\n",
        "- If you do not know how many arguments that will be passed into your function, add a * before the parameter name in the function definition.\n",
        "\n",
        "- This way the function will receive a tuple of arguments, and can access the items accordingly\n",
        "\n",
        "\n",
        "#### Keyword Arbitary Argument\n",
        "\n",
        "- If you do not know how many keyword arguments that will be passed into your function, add two asterisk: ** before the parameter name in the function definition.\n",
        "\n",
        "- This way the function will receive a dictionary of arguments, and can access the items accordingly"
      ],
      "metadata": {
        "id": "fNtezY5i62X1"
      }
    },
    {
      "cell_type": "code",
      "source": [
        "## positional arbitary argument\n",
        "\n",
        "def sum_of_array(*args):\n",
        "  ## args : tuple : (1,2,3)\n",
        "  result = 0\n",
        "  for item in args:\n",
        "    result += item\n",
        "\n",
        "  return result\n",
        "\n",
        "\n",
        "print(sum_of_array(1,2,3))\n",
        "print(sum_of_array(1,2,3,4,5))"
      ],
      "metadata": {
        "colab": {
          "base_uri": "https://localhost:8080/"
        },
        "id": "XFsTdG8b6zXJ",
        "outputId": "ec6c8b7c-c1ec-4d33-9a93-f7b5da702ee7"
      },
      "execution_count": 10,
      "outputs": [
        {
          "output_type": "stream",
          "name": "stdout",
          "text": [
            "6\n",
            "15\n"
          ]
        }
      ]
    },
    {
      "cell_type": "code",
      "source": [
        "## keyword arbitary argument\n",
        "\n",
        "def sum_of_array(**kwargs):\n",
        "  ## kwargs : dict\n",
        "  print(f\"{kwargs['greet_msg']} {kwargs['name']}\")\n",
        "\n",
        "\n",
        "sum_of_array(name = \"Sam\", greet_msg = \"Hello\")"
      ],
      "metadata": {
        "colab": {
          "base_uri": "https://localhost:8080/"
        },
        "id": "fVNQIZYd7Yyx",
        "outputId": "7f915df8-6ee1-4833-9644-1baeb5e0c66c"
      },
      "execution_count": 14,
      "outputs": [
        {
          "output_type": "stream",
          "name": "stdout",
          "text": [
            "Hello Sam\n"
          ]
        }
      ]
    },
    {
      "cell_type": "markdown",
      "source": [
        "## Function Closure\n",
        "\n",
        "- This kind of function takes some arguments and returns an inner function. The inner function is commonly known as a closure."
      ],
      "metadata": {
        "id": "S2Ij0qu--FPD"
      }
    },
    {
      "cell_type": "code",
      "source": [
        "def power(p):\n",
        "\n",
        "  def power_inner(n):\n",
        "    return n**p\n",
        "\n",
        "  return power_inner\n",
        "\n",
        "\n",
        "square = power(2)\n",
        "square(4)"
      ],
      "metadata": {
        "colab": {
          "base_uri": "https://localhost:8080/"
        },
        "id": "veLh1Z6p7_VY",
        "outputId": "cdee219f-8a89-435a-b24f-eb066d5317a4"
      },
      "execution_count": 16,
      "outputs": [
        {
          "output_type": "execute_result",
          "data": {
            "text/plain": [
              "16"
            ]
          },
          "metadata": {},
          "execution_count": 16
        }
      ]
    },
    {
      "cell_type": "markdown",
      "source": [
        "## Lambda Function\n",
        "\n",
        "- A lambda function is a small anonymous function.\n",
        "\n",
        "- A lambda function can take any number of arguments, but can only have one expression.\n",
        "\n",
        "- power of lambda is better shown when you use them as an anonymous function inside another function.\n",
        "\n",
        "Syntax\n",
        "```\n",
        "lambda arguments : expression\n",
        "```"
      ],
      "metadata": {
        "id": "Mc1nYYHV_MOS"
      }
    },
    {
      "cell_type": "code",
      "source": [
        "a = lambda x: x + 10\n",
        "print(a(5))"
      ],
      "metadata": {
        "colab": {
          "base_uri": "https://localhost:8080/"
        },
        "id": "Li4HB0UG_REV",
        "outputId": "554e5044-822d-4faa-cc43-cbca645b2477"
      },
      "execution_count": 17,
      "outputs": [
        {
          "output_type": "stream",
          "name": "stdout",
          "text": [
            "15\n"
          ]
        }
      ]
    },
    {
      "cell_type": "code",
      "source": [
        "x = lambda a, b : a * b\n",
        "print(x(5, 6))"
      ],
      "metadata": {
        "colab": {
          "base_uri": "https://localhost:8080/"
        },
        "id": "eaisoNXQ_dit",
        "outputId": "49a071e7-2615-439f-be54-3544e69254f8"
      },
      "execution_count": 18,
      "outputs": [
        {
          "output_type": "stream",
          "name": "stdout",
          "text": [
            "30\n"
          ]
        }
      ]
    },
    {
      "cell_type": "code",
      "source": [
        "x = lambda a, b, c : a + b + c\n",
        "print(x(5, 6, 2))"
      ],
      "metadata": {
        "colab": {
          "base_uri": "https://localhost:8080/"
        },
        "id": "0xduSaFh_fuo",
        "outputId": "aed80545-13ad-4e9d-88cb-3f62776b4f89"
      },
      "execution_count": 19,
      "outputs": [
        {
          "output_type": "stream",
          "name": "stdout",
          "text": [
            "13\n"
          ]
        }
      ]
    },
    {
      "cell_type": "code",
      "source": [
        "def myfunc(n):\n",
        "  return lambda a : a * n\n",
        "\n",
        "mydoubler = myfunc(2)\n",
        "mytripler = myfunc(3)\n",
        "\n",
        "print(mydoubler(11))\n",
        "print(mytripler(11))"
      ],
      "metadata": {
        "colab": {
          "base_uri": "https://localhost:8080/"
        },
        "id": "-mMDwq1T_g9Y",
        "outputId": "d576b4a9-a954-497f-da24-3bcce1272af7"
      },
      "execution_count": 20,
      "outputs": [
        {
          "output_type": "stream",
          "name": "stdout",
          "text": [
            "22\n",
            "33\n"
          ]
        }
      ]
    }
  ]
}