{
  "nbformat": 4,
  "nbformat_minor": 0,
  "metadata": {
    "colab": {
      "provenance": [],
      "authorship_tag": "ABX9TyPBDik0JfFBhvPpKyxr3oDF",
      "include_colab_link": true
    },
    "kernelspec": {
      "name": "python3",
      "display_name": "Python 3"
    },
    "language_info": {
      "name": "python"
    }
  },
  "cells": [
    {
      "cell_type": "markdown",
      "metadata": {
        "id": "view-in-github",
        "colab_type": "text"
      },
      "source": [
        "<a href=\"https://colab.research.google.com/github/gupta24789/python-tutorials/blob/main/08_OOPS.ipynb\" target=\"_parent\"><img src=\"https://colab.research.google.com/assets/colab-badge.svg\" alt=\"Open In Colab\"/></a>"
      ]
    },
    {
      "cell_type": "markdown",
      "source": [
        "## Classes/Objects\n",
        "\n",
        "- Almost everything in Python is an object, with its properties and methods.\n",
        "- A Class is like an object constructor, or a \"blueprint\" for creating objects.\n",
        "- To create class use **class** keyword"
      ],
      "metadata": {
        "id": "bp1tFYYzAGLX"
      }
    },
    {
      "cell_type": "code",
      "source": [
        "class MyClass:\n",
        "  x = 5\n",
        "\n",
        "## create object\n",
        "p1 = MyClass()\n",
        "print(p1.x)"
      ],
      "metadata": {
        "colab": {
          "base_uri": "https://localhost:8080/"
        },
        "id": "Mix0QlqpANY7",
        "outputId": "69f288ea-59d3-4c9f-cc3f-4f0cdb4eb78d"
      },
      "execution_count": 3,
      "outputs": [
        {
          "output_type": "stream",
          "name": "stdout",
          "text": [
            "5\n"
          ]
        }
      ]
    },
    {
      "cell_type": "markdown",
      "source": [
        "## __init__() Function\n",
        "\n",
        "- All classes have a function called __init__(), which is always executed when the class is being initiated"
      ],
      "metadata": {
        "id": "2HlmFSVWAnIX"
      }
    },
    {
      "cell_type": "code",
      "source": [
        "class Person:\n",
        "  def __init__(self, name, age):\n",
        "    self.name = name\n",
        "    self.age = age\n",
        "\n",
        "p1 = Person(\"John\", 36)\n",
        "print(p1.name)\n",
        "print(p1.age)"
      ],
      "metadata": {
        "colab": {
          "base_uri": "https://localhost:8080/"
        },
        "id": "Gl_nHPw1AV9u",
        "outputId": "f9dc5675-899b-4763-b508-3d1d2c859f40"
      },
      "execution_count": 5,
      "outputs": [
        {
          "output_type": "stream",
          "name": "stdout",
          "text": [
            "John\n",
            "36\n"
          ]
        }
      ]
    },
    {
      "cell_type": "markdown",
      "source": [
        "## __str__() Function\n",
        "\n",
        "- __str__() function controls what should be returned when the class object is represented as a string"
      ],
      "metadata": {
        "id": "CDypoijLA0RT"
      }
    },
    {
      "cell_type": "code",
      "source": [
        "## The string representation of an object WITHOUT the __str__() function:\n",
        "class Person:\n",
        "  def __init__(self, name, age):\n",
        "    self.name = name\n",
        "    self.age = age\n",
        "\n",
        "p1 = Person(\"John\", 36)\n",
        "print(p1)"
      ],
      "metadata": {
        "colab": {
          "base_uri": "https://localhost:8080/"
        },
        "id": "DI0V72NsAvdB",
        "outputId": "51b4d449-73a2-43b5-c8f9-b6c8a3b1b427"
      },
      "execution_count": 7,
      "outputs": [
        {
          "output_type": "stream",
          "name": "stdout",
          "text": [
            "<__main__.Person object at 0x7b98050d45b0>\n"
          ]
        }
      ]
    },
    {
      "cell_type": "code",
      "source": [
        "## The string representation of an object WITH the __str__() function:\n",
        "class Person:\n",
        "  def __init__(self, name, age):\n",
        "    self.name = name\n",
        "    self.age = age\n",
        "\n",
        "  def __str__(self):\n",
        "    return f\"{self.name}({self.age})\"\n",
        "\n",
        "p1 = Person(\"John\", 36)\n",
        "print(p1)"
      ],
      "metadata": {
        "colab": {
          "base_uri": "https://localhost:8080/"
        },
        "id": "zlIoWHoeBBRG",
        "outputId": "3ce66e8d-c69b-4bcb-ea2e-aa130b725e6f"
      },
      "execution_count": 9,
      "outputs": [
        {
          "output_type": "stream",
          "name": "stdout",
          "text": [
            "John(36)\n"
          ]
        }
      ]
    },
    {
      "cell_type": "markdown",
      "source": [
        "## __call__ Function\n",
        "\n",
        "- When any object is called It will first call the __call__() function"
      ],
      "metadata": {
        "id": "RPCK6re6E_Eq"
      }
    },
    {
      "cell_type": "code",
      "source": [
        "class MyClass:\n",
        "\n",
        "  def __init__(self, name):\n",
        "    self.name = name\n",
        "\n",
        "  def display_name(self):\n",
        "    print(f\"My name is : {self.name}\")\n",
        "\n",
        "  def __call__(self):\n",
        "    self.display_name()\n",
        "\n",
        "\n",
        "obj = MyClass(\"Saurabh\")\n",
        "obj() ## object call"
      ],
      "metadata": {
        "colab": {
          "base_uri": "https://localhost:8080/"
        },
        "id": "Q0CFapkGBGON",
        "outputId": "13004da2-7365-45c1-dbc4-bcb635de439b"
      },
      "execution_count": 12,
      "outputs": [
        {
          "output_type": "stream",
          "name": "stdout",
          "text": [
            "My name is : Saurabh\n"
          ]
        }
      ]
    },
    {
      "cell_type": "markdown",
      "source": [
        "## self Parameter\n",
        "\n",
        "- self parameter is a reference to the current instance of the class, and is used to access variables that belongs to the class\n",
        "- It does not have to be named self , you can call it whatever you like, but it has to be the first parameter of any function in the class"
      ],
      "metadata": {
        "id": "LOocrz39F2ez"
      }
    },
    {
      "cell_type": "code",
      "source": [
        "class Person:\n",
        "  def __init__(mysillyobject, name, age):\n",
        "    mysillyobject.name = name\n",
        "    mysillyobject.age = age\n",
        "\n",
        "  def myfunc(abc):\n",
        "    print(\"Hello my name is \" + abc.name)\n",
        "\n",
        "p1 = Person(\"John\", 36)\n",
        "p1.myfunc()"
      ],
      "metadata": {
        "colab": {
          "base_uri": "https://localhost:8080/"
        },
        "id": "hvCL6w2MFeYI",
        "outputId": "9623c076-dc6b-47ee-8972-e9a7db607480"
      },
      "execution_count": 14,
      "outputs": [
        {
          "output_type": "stream",
          "name": "stdout",
          "text": [
            "Hello my name is John\n"
          ]
        }
      ]
    },
    {
      "cell_type": "markdown",
      "source": [
        "#### There are two types of properties & methods\n",
        "  - class level\n",
        "  - instance level\n",
        "\n",
        "---\n",
        "\n",
        "- to initialize class level method use have to use classmethod decorator"
      ],
      "metadata": {
        "id": "AI1F1fIlGM1X"
      }
    },
    {
      "cell_type": "code",
      "source": [
        "class MyClass:\n",
        "\n",
        "  college_name = \"NITB\"     ## class level property\n",
        "\n",
        "  def __init__(self, rollno, name):\n",
        "    self.name = name           ## instance level proerty\n",
        "    self.rollno = rollno       ## instance level proerty\n",
        "\n",
        "  ## instance level method\n",
        "  def display(self):\n",
        "    print(f\"RollNo : {self.rollno}  Name : {self.name}\")\n",
        "\n",
        "  ## class level method\n",
        "  @classmethod\n",
        "  def display_college_name(cls):\n",
        "    print(f\"College Name : {cls.college_name}\")"
      ],
      "metadata": {
        "id": "RenHAhxcGAK_"
      },
      "execution_count": 20,
      "outputs": []
    },
    {
      "cell_type": "code",
      "source": [
        "## Access class level propert and method\n",
        "print(MyClass.college_name)\n",
        "MyClass.display_college_name()\n",
        "\n",
        "# MyClass.display()    ## Will give you error as it is instance level method\n",
        "# MyClass.name          ## Will give you error as it is instance level property"
      ],
      "metadata": {
        "colab": {
          "base_uri": "https://localhost:8080/"
        },
        "id": "QPmdWHSpHRmp",
        "outputId": "59c6e212-8ff7-490a-975b-0ee6f56f0441"
      },
      "execution_count": 25,
      "outputs": [
        {
          "output_type": "stream",
          "name": "stdout",
          "text": [
            "NITB\n",
            "College Name : NITB\n"
          ]
        }
      ]
    },
    {
      "cell_type": "code",
      "source": [
        "## Access instance level propert and method\n",
        "obj = MyClass(\"1\", \"Sam\")\n",
        "print(obj.rollno)\n",
        "print(obj.name)\n",
        "obj.display()\n",
        "\n",
        "print(obj.college_name)          ## obj can access the class level property\n",
        "obj.display_college_name()       ## obj can access the class level method"
      ],
      "metadata": {
        "colab": {
          "base_uri": "https://localhost:8080/"
        },
        "id": "I6T9Y4fDHYoo",
        "outputId": "991daf22-5bab-47ac-e6fb-c7eccd8bd540"
      },
      "execution_count": 31,
      "outputs": [
        {
          "output_type": "stream",
          "name": "stdout",
          "text": [
            "1\n",
            "Sam\n",
            "RollNo : 1  Name : Sam\n",
            "NITB\n",
            "College Name : NITB\n"
          ]
        }
      ]
    },
    {
      "cell_type": "code",
      "source": [
        "## If one obj modify the class property it will refelect to every other obj\n",
        "obj1 = MyClass(\"1\", \"Sam\")\n",
        "obj2 = MyClass(\"2\", \"Ram\")\n",
        "print(obj1.college_name)\n",
        "obj2.college_name = \"New NIT\"\n",
        "print(obj1.college_name)"
      ],
      "metadata": {
        "colab": {
          "base_uri": "https://localhost:8080/"
        },
        "id": "b9u_ub5MISlq",
        "outputId": "d24469ba-86c6-46d5-f0f9-56a7dcab9f52"
      },
      "execution_count": 33,
      "outputs": [
        {
          "output_type": "stream",
          "name": "stdout",
          "text": [
            "NITB\n",
            "NITB\n"
          ]
        }
      ]
    },
    {
      "cell_type": "code",
      "source": [
        "## Instance property are local to every object\n",
        "obj1 = MyClass(\"1\", \"Sam\")\n",
        "obj2 = MyClass(\"2\", \"Ram\")\n",
        "obj1.display()\n",
        "obj2.display()"
      ],
      "metadata": {
        "colab": {
          "base_uri": "https://localhost:8080/"
        },
        "id": "nDHIdRm1Ix2D",
        "outputId": "cfef2a9c-8350-426a-e4fb-13881b98bc46"
      },
      "execution_count": 34,
      "outputs": [
        {
          "output_type": "stream",
          "name": "stdout",
          "text": [
            "RollNo : 1  Name : Sam\n",
            "RollNo : 2  Name : Ram\n"
          ]
        }
      ]
    },
    {
      "cell_type": "markdown",
      "source": [
        "## Initialize init method from class Level method"
      ],
      "metadata": {
        "id": "QAPo-nnlJRtC"
      }
    },
    {
      "cell_type": "code",
      "source": [
        "class MyClass:\n",
        "\n",
        "  def __init__(self, rollno, name):\n",
        "    self.rollno = rollno\n",
        "    self.name = name\n",
        "\n",
        "  @classmethod\n",
        "  def _initialize_values(cls, rollno, name, college_name):\n",
        "    ## college_name variable should be on class level and other should be on instance level\n",
        "    cls.college_name = college_name\n",
        "    return cls(rollno, name)"
      ],
      "metadata": {
        "id": "8kBPQgmuJMQG"
      },
      "execution_count": 35,
      "outputs": []
    },
    {
      "cell_type": "code",
      "source": [
        "obj = MyClass._initialize_values(\"1\", \"Sam\", \"NIT\")"
      ],
      "metadata": {
        "id": "SqGcdLRcJ7Li"
      },
      "execution_count": 37,
      "outputs": []
    },
    {
      "cell_type": "code",
      "source": [
        "print(MyClass.college_name)\n",
        "print(obj.rollno)\n",
        "print(obj.name)\n",
        "\n",
        "# print(MyClass.name) ## will give you error as name is not on class level"
      ],
      "metadata": {
        "colab": {
          "base_uri": "https://localhost:8080/"
        },
        "id": "Iby6evSlJ-si",
        "outputId": "7b675941-67b7-4202-8af1-471a292d92a8"
      },
      "execution_count": 40,
      "outputs": [
        {
          "output_type": "stream",
          "name": "stdout",
          "text": [
            "NIT\n",
            "1\n",
            "Sam\n"
          ]
        }
      ]
    },
    {
      "cell_type": "markdown",
      "source": [
        "## Inheritance\n",
        "\n",
        "\n",
        "- Inheritance allows us to define a class that inherits all the methods and properties from another class\n",
        "\n",
        "- Parent class is the class being inherited from, also called base class.\n",
        "\n",
        "- Child class is the class that inherits from another class, also called derived class."
      ],
      "metadata": {
        "id": "DAxkgBgMKTC9"
      }
    },
    {
      "cell_type": "code",
      "source": [
        "class Vehicle:\n",
        "\n",
        "  def __init__(self, brand, color) -> None:\n",
        "    self.brand = brand\n",
        "    self.color = color\n",
        "\n",
        "  def get_color(self):\n",
        "    return self.color\n",
        "\n",
        "  def get_brand(self):\n",
        "    return self.brand\n",
        "\n",
        "  def display(self):\n",
        "    return {\"color\": self.color, \"brand\": self.brand}\n",
        "\n",
        "\n",
        "class Bike(Vehicle):\n",
        "\n",
        "  def __init__(self, brand, color, wheel):\n",
        "    super().__init__(brand, color)\n",
        "    self.wheel = wheel\n",
        "\n",
        "  def get_wheel(self):\n",
        "    return self.wheel\n",
        "\n",
        "  def display(self):\n",
        "    return {\"color\": self.color, \"brand\": self.brand, \"wheel\": self.wheel}\n",
        "\n",
        "  def display_otherway(self):\n",
        "    return {\"color\": super().get_color(), \"brand\": self.get_brand(), \"wheel\": self.wheel}"
      ],
      "metadata": {
        "id": "JylnJ4txKJjP"
      },
      "execution_count": 72,
      "outputs": []
    },
    {
      "cell_type": "code",
      "source": [
        "parent_obj = Vehicle(\"Honda\",\"Black\")\n",
        "print(parent_obj.get_color())\n",
        "print(parent_obj.get_brand())\n",
        "print(parent_obj.display())"
      ],
      "metadata": {
        "colab": {
          "base_uri": "https://localhost:8080/"
        },
        "id": "zeQfrAi4L5nZ",
        "outputId": "e359df48-a165-4979-d496-11dcacb94bc2"
      },
      "execution_count": 73,
      "outputs": [
        {
          "output_type": "stream",
          "name": "stdout",
          "text": [
            "Black\n",
            "Honda\n",
            "{'color': 'Black', 'brand': 'Honda'}\n"
          ]
        }
      ]
    },
    {
      "cell_type": "code",
      "source": [
        "child_obj = Bike(\"Honda\",\"Black\", 2)\n",
        "print(child_obj.get_color())\n",
        "print(child_obj.get_brand())\n",
        "print(child_obj.get_wheel())\n",
        "print(child_obj.display())\n",
        "print(child_obj.display_otherway())"
      ],
      "metadata": {
        "colab": {
          "base_uri": "https://localhost:8080/"
        },
        "id": "vRMbJtcTMEql",
        "outputId": "d4110fdc-e9c6-49b6-acb2-5d8bb4cdf971"
      },
      "execution_count": 74,
      "outputs": [
        {
          "output_type": "stream",
          "name": "stdout",
          "text": [
            "Black\n",
            "Honda\n",
            "2\n",
            "{'color': 'Black', 'brand': 'Honda', 'wheel': 2}\n",
            "{'color': 'Black', 'brand': 'Honda', 'wheel': 2}\n"
          ]
        }
      ]
    },
    {
      "cell_type": "markdown",
      "source": [
        "## Polymorphism\n",
        "\n",
        "\n",
        "- The word \"polymorphism\" means \"many forms\", and in programming it refers to methods/functions/operators with the same name that can be executed on many objects or classes.\n",
        "\n",
        "- For strings len() returns the number of characters:\n",
        "- For tuples len() returns the number of items in the tuple\n",
        "- For dictionaries len() returns the number of key/value pairs in the dictionary"
      ],
      "metadata": {
        "id": "c_ub1QJZPNAN"
      }
    },
    {
      "cell_type": "code",
      "source": [
        "class Car:\n",
        "  def __init__(self, brand, model):\n",
        "    self.brand = brand\n",
        "    self.model = model\n",
        "\n",
        "  def move(self):\n",
        "    print(\"Drive!\")\n",
        "\n",
        "class Boat:\n",
        "  def __init__(self, brand, model):\n",
        "    self.brand = brand\n",
        "    self.model = model\n",
        "\n",
        "  def move(self):\n",
        "    print(\"Sail!\")\n",
        "\n",
        "class Plane:\n",
        "  def __init__(self, brand, model):\n",
        "    self.brand = brand\n",
        "    self.model = model\n",
        "\n",
        "  def move(self):\n",
        "    print(\"Fly!\")\n",
        "\n",
        "car1 = Car(\"Ford\", \"Mustang\")       #Create a Car class\n",
        "boat1 = Boat(\"Ibiza\", \"Touring 20\") #Create a Boat class\n",
        "plane1 = Plane(\"Boeing\", \"747\")     #Create a Plane class\n",
        "\n",
        "for x in (car1, boat1, plane1):\n",
        "  x.move()"
      ],
      "metadata": {
        "colab": {
          "base_uri": "https://localhost:8080/"
        },
        "id": "Fn88GFLSOOYx",
        "outputId": "5e035df7-9f67-48e1-c8f4-96c3e6af26c1"
      },
      "execution_count": 75,
      "outputs": [
        {
          "output_type": "stream",
          "name": "stdout",
          "text": [
            "Drive!\n",
            "Sail!\n",
            "Fly!\n"
          ]
        }
      ]
    },
    {
      "cell_type": "code",
      "source": [
        "class Vehicle:\n",
        "  def __init__(self, brand, model):\n",
        "    self.brand = brand\n",
        "    self.model = model\n",
        "\n",
        "  def move(self):\n",
        "    print(\"Move!\")\n",
        "\n",
        "class Car(Vehicle):\n",
        "  pass\n",
        "\n",
        "class Boat(Vehicle):\n",
        "  def move(self):\n",
        "    print(\"Sail!\")\n",
        "\n",
        "class Plane(Vehicle):\n",
        "  def move(self):\n",
        "    print(\"Fly!\")\n",
        "\n",
        "car1 = Car(\"Ford\", \"Mustang\") #Create a Car object\n",
        "boat1 = Boat(\"Ibiza\", \"Touring 20\") #Create a Boat object\n",
        "plane1 = Plane(\"Boeing\", \"747\") #Create a Plane object\n",
        "\n",
        "for x in (car1, boat1, plane1):\n",
        "  print(x.brand)\n",
        "  print(x.model)\n",
        "  x.move()"
      ],
      "metadata": {
        "colab": {
          "base_uri": "https://localhost:8080/"
        },
        "id": "yIaNONskPal7",
        "outputId": "6bf499f2-1cdb-4034-9f89-7e00f4f53221"
      },
      "execution_count": 76,
      "outputs": [
        {
          "output_type": "stream",
          "name": "stdout",
          "text": [
            "Ford\n",
            "Mustang\n",
            "Move!\n",
            "Ibiza\n",
            "Touring 20\n",
            "Sail!\n",
            "Boeing\n",
            "747\n",
            "Fly!\n"
          ]
        }
      ]
    },
    {
      "cell_type": "code",
      "source": [],
      "metadata": {
        "id": "do1aK95IPxpp"
      },
      "execution_count": null,
      "outputs": []
    }
  ]
}