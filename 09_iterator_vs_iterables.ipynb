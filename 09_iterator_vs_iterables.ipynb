{
  "nbformat": 4,
  "nbformat_minor": 0,
  "metadata": {
    "colab": {
      "provenance": [],
      "authorship_tag": "ABX9TyN3Uc0vnENLuUJicpo+yh7e",
      "include_colab_link": true
    },
    "kernelspec": {
      "name": "python3",
      "display_name": "Python 3"
    },
    "language_info": {
      "name": "python"
    }
  },
  "cells": [
    {
      "cell_type": "markdown",
      "metadata": {
        "id": "view-in-github",
        "colab_type": "text"
      },
      "source": [
        "<a href=\"https://colab.research.google.com/github/gupta24789/python-tutorials/blob/main/09_iterator_vs_iterables.ipynb\" target=\"_parent\"><img src=\"https://colab.research.google.com/assets/colab-badge.svg\" alt=\"Open In Colab\"/></a>"
      ]
    },
    {
      "cell_type": "markdown",
      "source": [
        "- Python’s iterators and iterables are two different but related tools\n",
        "- An Iterable is basically an object that any user can iterate over. To perform this iteration, you’ll typically use a for loop.\n",
        "- Pure iterable objects typically hold the data themselves. For example, Python built-in container types—such as lists, tuples, dictionaries, and sets—are iterable objects.\n",
        "- Iterators power and control the iteration process, while iterables typically hold data that you want to iterate over one value at a time.\n",
        "-According to this internal structure, you can conclude that all iterators are iterables because they meet the iterable protocol. However, not all iterables are iterators—only those implementing the .__next__() method."
      ],
      "metadata": {
        "id": "f54Ad6aQYpS1"
      }
    },
    {
      "cell_type": "markdown",
      "source": [
        "## What is Iteration in Python\n",
        "\n",
        "When writing computer programs, you often need to repeat a given piece of code multiple times. To do this, you can follow one of the following approaches:\n",
        "\n",
        "- Repeating the target code as many times as you need in a sequence\n",
        "- Putting the target code in a loop that runs as many times as you need\n",
        "\n",
        "\n",
        "When you use a while or for loop to repeat a piece of code several times, you’re actually running an iteration. That’s the name given to the process itself."
      ],
      "metadata": {
        "id": "vxZxUj6KZeK8"
      }
    },
    {
      "cell_type": "code",
      "source": [
        "## Repeating the target code as many times as you need in a sequence\n",
        "print(\"Hello\")\n",
        "print(\"Hello\")\n",
        "print(\"Hello\")"
      ],
      "metadata": {
        "colab": {
          "base_uri": "https://localhost:8080/"
        },
        "id": "h9-XddRRZp9q",
        "outputId": "e96398a7-e4de-404e-da36-8b266eb3d0cf"
      },
      "execution_count": 1,
      "outputs": [
        {
          "output_type": "stream",
          "name": "stdout",
          "text": [
            "Hello\n",
            "Hello\n",
            "Hello\n"
          ]
        }
      ]
    },
    {
      "cell_type": "code",
      "source": [
        "## Indefinite Iteration : Putting the target code in a loop that runs as many times as you need\n",
        "times = 0\n",
        "while times < 3:\n",
        "  print(\"Hello!\")\n",
        "  times += 1"
      ],
      "metadata": {
        "colab": {
          "base_uri": "https://localhost:8080/"
        },
        "id": "oHrQaz3LZ0x6",
        "outputId": "68aff254-5128-4cf6-b081-a1bab115da7a"
      },
      "execution_count": 2,
      "outputs": [
        {
          "output_type": "stream",
          "name": "stdout",
          "text": [
            "Hello!\n",
            "Hello!\n",
            "Hello!\n"
          ]
        }
      ]
    },
    {
      "cell_type": "code",
      "source": [
        "## Definite Iteration\n",
        "numbers = [1, 2, 3, 4, 5]\n",
        "for number in numbers:\n",
        "  print(number)"
      ],
      "metadata": {
        "colab": {
          "base_uri": "https://localhost:8080/"
        },
        "id": "svFbvHg-Z9c4",
        "outputId": "7faf5808-e042-4638-8e15-1ab3a3c1ce86"
      },
      "execution_count": 3,
      "outputs": [
        {
          "output_type": "stream",
          "name": "stdout",
          "text": [
            "1\n",
            "2\n",
            "3\n",
            "4\n",
            "5\n"
          ]
        }
      ]
    },
    {
      "cell_type": "markdown",
      "source": [
        "## What Is an Iterator in Python?\n",
        "\n",
        "- In Python, an iterator is an object that allows you to iterate over collections of data, such as lists, tuples, dictionaries, and sets.\n",
        "- Python iterators implement the iterator design pattern, which allows you to traverse a container and access its elements.\n",
        "- Python iterators must implement a well-established internal structure known as the iterator protocol.\n",
        "\n",
        "#### Iterators take responsibility for two main actions:\n",
        "\n",
        "- Returning the data from a stream or container one item at a time\n",
        "- Keeping track of the current and visited items\n",
        "\n",
        "\n",
        "### What Is the Python Iterator Protocol?\n",
        "\n",
        "A Python object is considered an iterator when it implements two special methods collectively known as the iterator protocol. So, if you want to create custom iterator classes, then you must implement the following methods:\n",
        "\n",
        "---\n",
        "\n",
        "| Method      | Description                                                                            |\n",
        "|-------------|----------------------------------------------------------------------------------------|\n",
        "| .__iter__() | Called to initialize the iterator. It must return an iterator object.                  |\n",
        "| .__next__() | Called to iterate over the iterator. It must return the next value in the data stream. |\n",
        "\n",
        "---\n",
        "\n",
        "The .__iter__() method of an iterator typically returns self, which holds a reference to the current object: the iterator itself. This method is straightforward to write and, most of the time, looks something like this:\n",
        "\n",
        "```\n",
        "def __iter__(self):\n",
        "    return self\n",
        "```\n",
        "\n",
        "The .__next__() method will be a bit more complex depending on what you’re trying to do with your iterator."
      ],
      "metadata": {
        "id": "IbSinv4WbIPY"
      }
    },
    {
      "cell_type": "markdown",
      "source": [
        "### Create Custom Iterator\n",
        "\n",
        "Say that you want to write an iterator that takes a sequence of numbers, computes the square value of each number, and yields those values on demand"
      ],
      "metadata": {
        "id": "2NJlQJb_dKdE"
      }
    },
    {
      "cell_type": "code",
      "source": [
        "## Iterator : square every value\n",
        "\n",
        "class SquareIterator:\n",
        "    def __init__(self, sequence):\n",
        "        self._sequence = sequence\n",
        "        self._index = 0\n",
        "\n",
        "    def __iter__(self):\n",
        "        return self\n",
        "\n",
        "    def __next__(self):\n",
        "        if self._index < len(self._sequence):\n",
        "            square = self._sequence[self._index] ** 2\n",
        "            self._index += 1\n",
        "            return square\n",
        "        else:\n",
        "            raise StopIteration\n",
        "\n",
        "## Define\n",
        "for i in SquareIterator([1,2,3,4]):\n",
        "  print(i)"
      ],
      "metadata": {
        "colab": {
          "base_uri": "https://localhost:8080/"
        },
        "id": "R0IwrZWAab2H",
        "outputId": "ea92cf4a-40fe-40f8-bf1f-7817682e65af"
      },
      "execution_count": 6,
      "outputs": [
        {
          "output_type": "stream",
          "name": "stdout",
          "text": [
            "1\n",
            "4\n",
            "9\n",
            "16\n"
          ]
        }
      ]
    },
    {
      "cell_type": "code",
      "source": [
        "## Using abstractor class for Iterator\n",
        "from collections.abc import Iterator\n",
        "\n",
        "class SequenceIterator(Iterator):\n",
        "    def __init__(self, sequence):\n",
        "        self._sequence = sequence\n",
        "        self._index = 0\n",
        "\n",
        "    def __next__(self):\n",
        "        if self._index < len(self._sequence):\n",
        "            item = self._sequence[self._index]\n",
        "            self._index += 1\n",
        "            return item\n",
        "        else:\n",
        "            raise StopIteration\n",
        "\n",
        "\n",
        "## Define\n",
        "for i in SquareIterator([1,2,3,4]):\n",
        "  print(i)"
      ],
      "metadata": {
        "colab": {
          "base_uri": "https://localhost:8080/"
        },
        "id": "lyVoFuF7dZtI",
        "outputId": "980d6ee4-6961-4cfc-af11-c7eb6b9c72f4"
      },
      "execution_count": 7,
      "outputs": [
        {
          "output_type": "stream",
          "name": "stdout",
          "text": [
            "1\n",
            "4\n",
            "9\n",
            "16\n"
          ]
        }
      ]
    },
    {
      "cell_type": "markdown",
      "source": [
        "## Generator Iterators\n",
        "\n",
        "\n",
        "- A generator function returns an iterator that supports the iterator protocol\n",
        "- To create a generator function, you must use the yield keyword\n"
      ],
      "metadata": {
        "id": "qE6R2FefeTQz"
      }
    },
    {
      "cell_type": "code",
      "source": [
        "def sequence_generator(sequence):\n",
        "    for item in sequence:\n",
        "        yield item\n",
        "\n",
        "\n",
        "sequence_generator([1, 2, 3, 4])"
      ],
      "metadata": {
        "colab": {
          "base_uri": "https://localhost:8080/"
        },
        "id": "euTw5n0oe3t5",
        "outputId": "a92415df-69d7-48b6-f8a8-bb6e4696ab16"
      },
      "execution_count": 8,
      "outputs": [
        {
          "output_type": "execute_result",
          "data": {
            "text/plain": [
              "<generator object sequence_generator at 0x7c5901df0dd0>"
            ]
          },
          "metadata": {},
          "execution_count": 8
        }
      ]
    },
    {
      "cell_type": "code",
      "source": [
        "for number in sequence_generator([1, 2, 3, 4]):\n",
        "    print(number)"
      ],
      "metadata": {
        "colab": {
          "base_uri": "https://localhost:8080/"
        },
        "id": "PV1RrcWade0y",
        "outputId": "0491bfe3-e854-4842-ac69-ce1afeaa5815"
      },
      "execution_count": 9,
      "outputs": [
        {
          "output_type": "stream",
          "name": "stdout",
          "text": [
            "1\n",
            "2\n",
            "3\n",
            "4\n"
          ]
        }
      ]
    },
    {
      "cell_type": "markdown",
      "source": [
        "## Using Generator Expressions to Create Iterators\n",
        "\n",
        "- These are particular types of expressions that return generator iterators. - - The syntax of a generator expression is almost the same as that of a list comprehension. You only need to turn the square brackets ([]) into parentheses:"
      ],
      "metadata": {
        "id": "PDwFCsOtfhfw"
      }
    },
    {
      "cell_type": "code",
      "source": [
        "[item for item in [1, 2, 3, 4]]  # List comprehension"
      ],
      "metadata": {
        "colab": {
          "base_uri": "https://localhost:8080/"
        },
        "id": "s0fhCiS6e7rN",
        "outputId": "77a42b96-a199-4f10-be06-2e659b51ee1c"
      },
      "execution_count": 10,
      "outputs": [
        {
          "output_type": "execute_result",
          "data": {
            "text/plain": [
              "[1, 2, 3, 4]"
            ]
          },
          "metadata": {},
          "execution_count": 10
        }
      ]
    },
    {
      "cell_type": "code",
      "source": [
        "(item for item in [1, 2, 3, 4])  # Generator expression"
      ],
      "metadata": {
        "colab": {
          "base_uri": "https://localhost:8080/"
        },
        "id": "NtZqjuR_fp7d",
        "outputId": "0a5b8444-8196-4282-adff-0debb6006908"
      },
      "execution_count": 11,
      "outputs": [
        {
          "output_type": "execute_result",
          "data": {
            "text/plain": [
              "<generator object <genexpr> at 0x7c5901df1690>"
            ]
          },
          "metadata": {},
          "execution_count": 11
        }
      ]
    },
    {
      "cell_type": "code",
      "source": [
        "generator_expression = (item for item in [1, 2, 3, 4])\n",
        "for item in generator_expression:\n",
        "    print(item)"
      ],
      "metadata": {
        "colab": {
          "base_uri": "https://localhost:8080/"
        },
        "id": "2h8Hds1Jftev",
        "outputId": "4ca05f87-451d-4e09-e279-6605453ce12c"
      },
      "execution_count": 12,
      "outputs": [
        {
          "output_type": "stream",
          "name": "stdout",
          "text": [
            "1\n",
            "2\n",
            "3\n",
            "4\n"
          ]
        }
      ]
    },
    {
      "cell_type": "markdown",
      "source": [
        "## Iterators Limitation\n",
        "\n",
        "- You can’t iterate over an iterator more than once."
      ],
      "metadata": {
        "id": "uQmA6M6cgUda"
      }
    },
    {
      "cell_type": "code",
      "source": [
        "numbers_iter = SequenceIterator([1, 2, 3, 4])\n",
        "\n",
        "for number in numbers_iter:\n",
        "    print(number)\n",
        "\n",
        "for number in numbers_iter:\n",
        "    print(number)"
      ],
      "metadata": {
        "colab": {
          "base_uri": "https://localhost:8080/"
        },
        "id": "oa_Vw6Hufwd_",
        "outputId": "205b8f26-116a-445a-fafd-df4744b83ef0"
      },
      "execution_count": 13,
      "outputs": [
        {
          "output_type": "stream",
          "name": "stdout",
          "text": [
            "1\n",
            "2\n",
            "3\n",
            "4\n"
          ]
        }
      ]
    },
    {
      "cell_type": "markdown",
      "source": [
        "## Sequence Protocol\n",
        "\n",
        "- Sequences are container data types that store items in consecutive order. Each item is quickly accessible through a zero-based index that reflects the item’s relative position in the sequence.\n",
        "\n",
        "All built-in sequence data types—like lists, tuples, and strings—implement the sequence protocol, which consists of the following methods:\n",
        "\n",
        "  - __getitem__(index) takes an integer index starting from zero and returns the items at that index in the underlying sequence. It raises an IndexError exception when the index is out of range.\n",
        "\n",
        "  - __len__() returns the length of the sequence"
      ],
      "metadata": {
        "id": "IFvNksFBhWPw"
      }
    },
    {
      "cell_type": "code",
      "source": [
        "mylist = [1,2,3,4,5,6]\n",
        "# next(mylist)  ## TypeError: 'list' object is not an iterator"
      ],
      "metadata": {
        "id": "qXJxew8QggLv"
      },
      "execution_count": 15,
      "outputs": []
    },
    {
      "cell_type": "code",
      "source": [
        "iter(mylist)"
      ],
      "metadata": {
        "colab": {
          "base_uri": "https://localhost:8080/"
        },
        "id": "CD1EUqsRiW0V",
        "outputId": "6d1d5575-228f-4e94-e775-4d73535fe7ce"
      },
      "execution_count": 16,
      "outputs": [
        {
          "output_type": "execute_result",
          "data": {
            "text/plain": [
              "<list_iterator at 0x7c5901d90c70>"
            ]
          },
          "metadata": {},
          "execution_count": 16
        }
      ]
    },
    {
      "cell_type": "code",
      "source": [
        "mylist_iterator = iter(mylist)"
      ],
      "metadata": {
        "id": "fjkPkLJyibA4"
      },
      "execution_count": 18,
      "outputs": []
    },
    {
      "cell_type": "code",
      "source": [
        "print(next(mylist_iterator))\n",
        "print(next(mylist_iterator))\n",
        "print(next(mylist_iterator))"
      ],
      "metadata": {
        "colab": {
          "base_uri": "https://localhost:8080/"
        },
        "id": "IfmlZP8YigAZ",
        "outputId": "663ba9fe-065c-4ff4-cff2-c873ec043af2"
      },
      "execution_count": 19,
      "outputs": [
        {
          "output_type": "stream",
          "name": "stdout",
          "text": [
            "1\n",
            "2\n",
            "3\n"
          ]
        }
      ]
    }
  ]
}