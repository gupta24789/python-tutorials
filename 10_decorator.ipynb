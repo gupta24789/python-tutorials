{
  "nbformat": 4,
  "nbformat_minor": 0,
  "metadata": {
    "colab": {
      "provenance": [],
      "authorship_tag": "ABX9TyN2U0wHnEWQ4fFlufn8Dl7X",
      "include_colab_link": true
    },
    "kernelspec": {
      "name": "python3",
      "display_name": "Python 3"
    },
    "language_info": {
      "name": "python"
    }
  },
  "cells": [
    {
      "cell_type": "markdown",
      "metadata": {
        "id": "view-in-github",
        "colab_type": "text"
      },
      "source": [
        "<a href=\"https://colab.research.google.com/github/gupta24789/python-tutorials/blob/main/10_decorator.ipynb\" target=\"_parent\"><img src=\"https://colab.research.google.com/assets/colab-badge.svg\" alt=\"Open In Colab\"/></a>"
      ]
    },
    {
      "cell_type": "markdown",
      "source": [
        "## Decorator\n",
        "\n",
        "\n",
        "- Decorator is a function that takes another function and extends the behavior of the latter function without explicitly modifying it.\n",
        "-In Python, functions are first-class objects. This means that functions can be passed around and used as arguments, just like any other object (string, int, float, list, and so on)\n",
        "\n"
      ],
      "metadata": {
        "id": "zcQ7QmhRjfO5"
      }
    },
    {
      "cell_type": "code",
      "source": [
        "def my_decorator(func):\n",
        "    def wrapper():\n",
        "        print(\"Something is happening before the function is called.\")\n",
        "        func()\n",
        "        print(\"Something is happening after the function is called.\")\n",
        "    return wrapper\n",
        "\n",
        "def greet():\n",
        "    print(\"Hello World!\")\n",
        "\n",
        "say_greet = my_decorator(greet)\n",
        "say_greet()"
      ],
      "metadata": {
        "colab": {
          "base_uri": "https://localhost:8080/"
        },
        "id": "h5tUB0_njG5F",
        "outputId": "b85796c7-1eb7-43db-d456-9adea3c89d3d"
      },
      "execution_count": 3,
      "outputs": [
        {
          "output_type": "stream",
          "name": "stdout",
          "text": [
            "Something is happening before the function is called.\n",
            "Hello World!\n",
            "Something is happening after the function is called.\n"
          ]
        }
      ]
    },
    {
      "cell_type": "code",
      "source": [
        "def my_decorator(func):\n",
        "    def wrapper():\n",
        "        print(\"Something is happening before the function is called.\")\n",
        "        func()\n",
        "        print(\"Something is happening after the function is called.\")\n",
        "    return wrapper\n",
        "\n",
        "@my_decorator\n",
        "def greet():\n",
        "    print(\"Hello World!\")\n",
        "\n",
        "greet()"
      ],
      "metadata": {
        "colab": {
          "base_uri": "https://localhost:8080/"
        },
        "id": "fWpBJ-MtlCmo",
        "outputId": "2f4711ca-305a-4769-d59e-4e99b7e9ef9a"
      },
      "execution_count": 4,
      "outputs": [
        {
          "output_type": "stream",
          "name": "stdout",
          "text": [
            "Something is happening before the function is called.\n",
            "Hello World!\n",
            "Something is happening after the function is called.\n"
          ]
        }
      ]
    },
    {
      "cell_type": "markdown",
      "source": [
        "## Decorator without argument\n",
        "\n",
        "\n",
        "\n"
      ],
      "metadata": {
        "id": "E0OPWctQmC1g"
      }
    },
    {
      "cell_type": "code",
      "source": [
        "def do_twice(func):\n",
        "    def wrapper_do_twice():\n",
        "        func()\n",
        "        func()\n",
        "    return wrapper_do_twice\n",
        "\n",
        "@do_twice\n",
        "def say_whee():\n",
        "    print(\"Whee!\")\n",
        "\n",
        "say_whee()"
      ],
      "metadata": {
        "colab": {
          "base_uri": "https://localhost:8080/"
        },
        "id": "TQXCBRX2lNCl",
        "outputId": "a0422a5a-9357-4539-e647-cdf9af07dda3"
      },
      "execution_count": 13,
      "outputs": [
        {
          "output_type": "stream",
          "name": "stdout",
          "text": [
            "Whee!\n",
            "Whee!\n"
          ]
        }
      ]
    },
    {
      "cell_type": "markdown",
      "source": [
        "## Decorator with Argument\n",
        "\n"
      ],
      "metadata": {
        "id": "60qVv5oOmVn-"
      }
    },
    {
      "cell_type": "code",
      "source": [
        "def do_twice(func):\n",
        "    def wrapper_do_twice(name):\n",
        "        func(name)\n",
        "        func(name)\n",
        "    return wrapper_do_twice\n",
        "\n",
        "@do_twice\n",
        "def say_whee(name):\n",
        "    print(name)\n",
        "\n",
        "say_whee(name = \"Hello\")"
      ],
      "metadata": {
        "colab": {
          "base_uri": "https://localhost:8080/"
        },
        "id": "a8E1nH-rlhS1",
        "outputId": "70b975f1-8a40-4ef0-8997-2c8bd160917d"
      },
      "execution_count": 14,
      "outputs": [
        {
          "output_type": "stream",
          "name": "stdout",
          "text": [
            "Hello\n",
            "Hello\n"
          ]
        }
      ]
    },
    {
      "cell_type": "markdown",
      "source": [
        "## Decorator with Any Argument\n",
        "\n",
        "\n",
        "- Decorator should be resuable.\n",
        "- There must be one do_twice function which handle with and without argument condition"
      ],
      "metadata": {
        "id": "ljSWCKqVmi-i"
      }
    },
    {
      "cell_type": "code",
      "source": [
        "def do_twice(func):\n",
        "    def wrapper_do_twice(*args, **kwargs):\n",
        "        func(*args, **kwargs)\n",
        "        func(*args, **kwargs)\n",
        "    return wrapper_do_twice"
      ],
      "metadata": {
        "id": "KGyAlOqJnBV-"
      },
      "execution_count": 18,
      "outputs": []
    },
    {
      "cell_type": "code",
      "source": [
        "@do_twice\n",
        "def greet():\n",
        "  print(\"Hello\")\n",
        "\n",
        "greet()"
      ],
      "metadata": {
        "colab": {
          "base_uri": "https://localhost:8080/"
        },
        "id": "43H5zlDql0li",
        "outputId": "3de12806-0eab-4f3c-cf7e-8e92e72828f9"
      },
      "execution_count": 19,
      "outputs": [
        {
          "output_type": "stream",
          "name": "stdout",
          "text": [
            "Hello\n",
            "Hello\n"
          ]
        }
      ]
    },
    {
      "cell_type": "code",
      "source": [
        "@do_twice\n",
        "def greet(name):\n",
        "  print(name)\n",
        "\n",
        "greet(\"World\")"
      ],
      "metadata": {
        "colab": {
          "base_uri": "https://localhost:8080/"
        },
        "id": "tQP-aKQfnCsz",
        "outputId": "74ef36c6-e349-44b9-b68f-befd9cf7c1a1"
      },
      "execution_count": 20,
      "outputs": [
        {
          "output_type": "stream",
          "name": "stdout",
          "text": [
            "World\n",
            "World\n"
          ]
        }
      ]
    },
    {
      "cell_type": "markdown",
      "source": [
        "## Decorator with Return Value"
      ],
      "metadata": {
        "id": "qQL6APiPnhNi"
      }
    },
    {
      "cell_type": "code",
      "source": [
        "import time"
      ],
      "metadata": {
        "id": "nuAf5oo3oQoK"
      },
      "execution_count": 25,
      "outputs": []
    },
    {
      "cell_type": "code",
      "source": [
        "def timer(func):\n",
        "  def wrapper(*args, **kwargs):\n",
        "    start_time = time.time()\n",
        "    result = func(*args, **kwargs)\n",
        "    end_time = time.time()\n",
        "    print(f\"Time : {end_time - start_time:.2f} sec\")\n",
        "    return result\n",
        "\n",
        "  return wrapper"
      ],
      "metadata": {
        "id": "XCyD0F6QnGxA"
      },
      "execution_count": 35,
      "outputs": []
    },
    {
      "cell_type": "code",
      "source": [
        "@timer\n",
        "def calculate_sum(mylist):\n",
        "  total = 0\n",
        "  for i in mylist:\n",
        "    total += i\n",
        "\n",
        "  return total"
      ],
      "metadata": {
        "id": "yhNhsxwmn06N"
      },
      "execution_count": 36,
      "outputs": []
    },
    {
      "cell_type": "code",
      "source": [
        "calculate_sum(range(1,1000000))"
      ],
      "metadata": {
        "colab": {
          "base_uri": "https://localhost:8080/"
        },
        "id": "ItZ6CS6toHHS",
        "outputId": "c2e347a0-2df3-4cca-ed91-952e48098755"
      },
      "execution_count": 37,
      "outputs": [
        {
          "output_type": "stream",
          "name": "stdout",
          "text": [
            "Time : 0.07 sec\n"
          ]
        },
        {
          "output_type": "execute_result",
          "data": {
            "text/plain": [
              "499999500000"
            ]
          },
          "metadata": {},
          "execution_count": 37
        }
      ]
    },
    {
      "cell_type": "markdown",
      "source": [
        "## Documentation\n",
        "\n",
        "- built in function has proper documentation which helps to debugg the code.\n",
        "- **say_whee** function gives the name which is not very accurate. To fix this decorator should use  **@functools.wraps** decorator"
      ],
      "metadata": {
        "id": "TBTwJU6Zo4r-"
      }
    },
    {
      "cell_type": "code",
      "source": [
        "print"
      ],
      "metadata": {
        "colab": {
          "base_uri": "https://localhost:8080/"
        },
        "id": "fS6JUKHXo_4w",
        "outputId": "cb37b31a-4b8a-4254-c3b6-c61992e5706d"
      },
      "execution_count": 41,
      "outputs": [
        {
          "output_type": "execute_result",
          "data": {
            "text/plain": [
              "<function print>"
            ]
          },
          "metadata": {},
          "execution_count": 41
        }
      ]
    },
    {
      "cell_type": "code",
      "source": [
        "print.__name__"
      ],
      "metadata": {
        "colab": {
          "base_uri": "https://localhost:8080/",
          "height": 36
        },
        "id": "E9pV1oFCpBrZ",
        "outputId": "b14e5c06-a5b2-4ac0-afbe-beb17b5d5447"
      },
      "execution_count": 42,
      "outputs": [
        {
          "output_type": "execute_result",
          "data": {
            "text/plain": [
              "'print'"
            ],
            "application/vnd.google.colaboratory.intrinsic+json": {
              "type": "string"
            }
          },
          "metadata": {},
          "execution_count": 42
        }
      ]
    },
    {
      "cell_type": "code",
      "source": [
        "say_whee"
      ],
      "metadata": {
        "colab": {
          "base_uri": "https://localhost:8080/"
        },
        "id": "ic2kQXGVoJUn",
        "outputId": "31f3696f-c5a3-4207-ec03-7d87b38ff479"
      },
      "execution_count": 44,
      "outputs": [
        {
          "output_type": "execute_result",
          "data": {
            "text/plain": [
              "<function __main__.do_twice.<locals>.wrapper_do_twice(name)>"
            ]
          },
          "metadata": {},
          "execution_count": 44
        }
      ]
    },
    {
      "cell_type": "code",
      "source": [
        "import functools\n",
        "\n",
        "def do_twice(func):\n",
        "    @functools.wraps(func)\n",
        "    def wrapper_do_twice(*args, **kwargs):\n",
        "        func(*args, **kwargs)\n",
        "        return func(*args, **kwargs)\n",
        "    return wrapper_do_twice\n",
        "\n",
        "\n",
        "@do_twice\n",
        "def say_whee(name):\n",
        "    print(name)"
      ],
      "metadata": {
        "id": "8jYMl7iTo9dB"
      },
      "execution_count": 47,
      "outputs": []
    },
    {
      "cell_type": "code",
      "source": [
        "say_whee"
      ],
      "metadata": {
        "colab": {
          "base_uri": "https://localhost:8080/"
        },
        "id": "JjjN_ppSp-ow",
        "outputId": "76b92e83-3f9b-4bf7-8f31-2a73f44fe342"
      },
      "execution_count": 48,
      "outputs": [
        {
          "output_type": "execute_result",
          "data": {
            "text/plain": [
              "<function __main__.say_whee(name)>"
            ]
          },
          "metadata": {},
          "execution_count": 48
        }
      ]
    },
    {
      "cell_type": "markdown",
      "source": [
        "##  Decorator Structure"
      ],
      "metadata": {
        "id": "Z3E6bDnwwynE"
      }
    },
    {
      "cell_type": "code",
      "source": [
        "import functools\n",
        "\n",
        "def decorator(func):\n",
        "    @functools.wraps(func)\n",
        "    def wrapper_decorator(*args, **kwargs):\n",
        "        # Do something before\n",
        "        value = func(*args, **kwargs)\n",
        "        # Do something after\n",
        "        return value\n",
        "    return wrapper_decorator"
      ],
      "metadata": {
        "id": "VgeumNvgqA_O"
      },
      "execution_count": 49,
      "outputs": []
    },
    {
      "cell_type": "markdown",
      "source": [
        "## Timing Functions"
      ],
      "metadata": {
        "id": "eo2fpqCKw8e0"
      }
    },
    {
      "cell_type": "code",
      "source": [
        "import functools\n",
        "import time\n",
        "\n",
        "def timer(func):\n",
        "    \"\"\"Print the runtime of the decorated function\"\"\"\n",
        "    @functools.wraps(func)\n",
        "    def wrapper_timer(*args, **kwargs):\n",
        "        start_time = time.perf_counter()    # 1\n",
        "        value = func(*args, **kwargs)\n",
        "        end_time = time.perf_counter()      # 2\n",
        "        run_time = end_time - start_time    # 3\n",
        "        print(f\"Finished {func.__name__!r} in {run_time:.4f} secs\")\n",
        "        return value\n",
        "    return wrapper_timer\n",
        "\n",
        "@timer\n",
        "def waste_some_time(num_times):\n",
        "    for _ in range(num_times):\n",
        "        sum([i**2 for i in range(10000)])"
      ],
      "metadata": {
        "id": "0chz3SiWw1yX"
      },
      "execution_count": 50,
      "outputs": []
    },
    {
      "cell_type": "code",
      "source": [
        "waste_some_time(1)"
      ],
      "metadata": {
        "colab": {
          "base_uri": "https://localhost:8080/"
        },
        "id": "f_MkDCaYw_bN",
        "outputId": "20645425-3061-43f6-dfb7-3da7c20f2d10"
      },
      "execution_count": 51,
      "outputs": [
        {
          "output_type": "stream",
          "name": "stdout",
          "text": [
            "Finished 'waste_some_time' in 0.0097 secs\n"
          ]
        }
      ]
    },
    {
      "cell_type": "code",
      "source": [
        "waste_some_time(999)"
      ],
      "metadata": {
        "colab": {
          "base_uri": "https://localhost:8080/"
        },
        "id": "hS3ta29axCV4",
        "outputId": "13bd313f-fed1-4c63-9551-9130a524eb59"
      },
      "execution_count": 52,
      "outputs": [
        {
          "output_type": "stream",
          "name": "stdout",
          "text": [
            "Finished 'waste_some_time' in 3.2888 secs\n"
          ]
        }
      ]
    },
    {
      "cell_type": "markdown",
      "source": [
        "## Advance Decorator\n",
        "\n",
        "- Decorators on classes\n",
        "- Several decorators on one function\n",
        "- Decorators with arguments\n",
        "- Decorators that can optionally take arguments\n",
        "- Stateful decorators\n",
        "- Classes as decorators"
      ],
      "metadata": {
        "id": "6SkPqMLnyhPo"
      }
    },
    {
      "cell_type": "code",
      "source": [
        "import functools\n",
        "import time\n",
        "\n",
        "def debug(func):\n",
        "    \"\"\"Print the function signature and return value\"\"\"\n",
        "    @functools.wraps(func)\n",
        "    def wrapper_debug(*args, **kwargs):\n",
        "        args_repr = [repr(a) for a in args]                      # 1\n",
        "        kwargs_repr = [f\"{k}={v!r}\" for k, v in kwargs.items()]  # 2\n",
        "        signature = \", \".join(args_repr + kwargs_repr)           # 3\n",
        "        print(f\"Calling {func.__name__}({signature})\")\n",
        "        value = func(*args, **kwargs)\n",
        "        print(f\"{func.__name__!r} returned {value!r}\")           # 4\n",
        "        return value\n",
        "    return wrapper_debug\n",
        "\n",
        "\n",
        "def timer(func):\n",
        "    \"\"\"Print the runtime of the decorated function\"\"\"\n",
        "    @functools.wraps(func)\n",
        "    def wrapper_timer(*args, **kwargs):\n",
        "        start_time = time.perf_counter()    # 1\n",
        "        value = func(*args, **kwargs)\n",
        "        end_time = time.perf_counter()      # 2\n",
        "        run_time = end_time - start_time    # 3\n",
        "        print(f\"Finished {func.__name__!r} in {run_time:.4f} secs\")\n",
        "        return value\n",
        "    return wrapper_timer"
      ],
      "metadata": {
        "id": "CnNYEzhRzLrj"
      },
      "execution_count": 54,
      "outputs": []
    },
    {
      "cell_type": "markdown",
      "source": [
        "### Decorating Classes\n",
        "\n",
        "There are two different ways you can use decorators on classes.\n",
        "- The first one is very close to what you have already done with functions: you can decorate the methods of a class.\n",
        "- The other way to use decorators on classes is to decorate the whole class\n",
        "\n",
        "Some commonly used decorators that are even built-ins in Python are **@classmethod**, **@staticmethod**, and **@property**. The @classmethod and @staticmethod decorators are used to define methods inside a class namespace that are not connected to a particular instance of that class. The @property decorator is used to customize getters and setters for class attributes."
      ],
      "metadata": {
        "id": "I22JML5IytTJ"
      }
    },
    {
      "cell_type": "code",
      "source": [
        "class TimeWaster:\n",
        "    @debug\n",
        "    def __init__(self, max_num):\n",
        "        self.max_num = max_num\n",
        "\n",
        "    @timer\n",
        "    def waste_time(self, num_times):\n",
        "        for _ in range(num_times):\n",
        "            sum([i**2 for i in range(self.max_num)])"
      ],
      "metadata": {
        "id": "wlNbvt3OxdmZ"
      },
      "execution_count": 56,
      "outputs": []
    },
    {
      "cell_type": "code",
      "source": [
        "tw = TimeWaster(1000)"
      ],
      "metadata": {
        "colab": {
          "base_uri": "https://localhost:8080/"
        },
        "id": "SdHDoHX_zP7X",
        "outputId": "65dfcaae-f60d-43a5-bb22-c31d723747b0"
      },
      "execution_count": 57,
      "outputs": [
        {
          "output_type": "stream",
          "name": "stdout",
          "text": [
            "Calling __init__(<__main__.TimeWaster object at 0x7e28eaa3f670>, 1000)\n",
            "'__init__' returned None\n"
          ]
        }
      ]
    },
    {
      "cell_type": "code",
      "source": [
        "tw.waste_time(999)"
      ],
      "metadata": {
        "colab": {
          "base_uri": "https://localhost:8080/"
        },
        "id": "quXbv6fpzXMF",
        "outputId": "bd8305de-5dd7-4b63-ea99-45b3f3e7b6f1"
      },
      "execution_count": 58,
      "outputs": [
        {
          "output_type": "stream",
          "name": "stdout",
          "text": [
            "Finished 'waste_time' in 0.3994 secs\n"
          ]
        }
      ]
    },
    {
      "cell_type": "code",
      "source": [
        "##  you could have done the decoration by writing PlayingCard = dataclass(PlayingCard).\n",
        "from dataclasses import dataclass\n",
        "\n",
        "@dataclass\n",
        "class PlayingCard:\n",
        "    rank: str\n",
        "    suit: str"
      ],
      "metadata": {
        "id": "GqeTMaerzYb5"
      },
      "execution_count": 59,
      "outputs": []
    },
    {
      "cell_type": "code",
      "source": [
        "## Decorating a class does not decorate its methods\n",
        "## Recall that @timer is just shorthand for TimeWaster = timer(TimeWaster).\n",
        "\n",
        "@timer\n",
        "class TimeWaster:\n",
        "    def __init__(self, max_num):\n",
        "        self.max_num = max_num\n",
        "\n",
        "    def waste_time(self, num_times):\n",
        "        for _ in range(num_times):\n",
        "            sum([i**2 for i in range(self.max_num)])"
      ],
      "metadata": {
        "id": "oWsGcyzezlM8"
      },
      "execution_count": 60,
      "outputs": []
    },
    {
      "cell_type": "code",
      "source": [
        "tw = TimeWaster(1000)"
      ],
      "metadata": {
        "colab": {
          "base_uri": "https://localhost:8080/"
        },
        "id": "zlM-mAs2z5WJ",
        "outputId": "36b9cef7-df35-44f4-f404-72cac98613c5"
      },
      "execution_count": 61,
      "outputs": [
        {
          "output_type": "stream",
          "name": "stdout",
          "text": [
            "Finished 'TimeWaster' in 0.0000 secs\n"
          ]
        }
      ]
    },
    {
      "cell_type": "code",
      "source": [
        "tw.waste_time(999)"
      ],
      "metadata": {
        "id": "t1cRT36wz6pH"
      },
      "execution_count": 62,
      "outputs": []
    },
    {
      "cell_type": "markdown",
      "source": [
        "## Nesting Decorators\n",
        "\n",
        "- You can apply several decorators to a function by stacking them on top of each other"
      ],
      "metadata": {
        "id": "QZiX_ak3z-r9"
      }
    },
    {
      "cell_type": "code",
      "source": [
        "@debug\n",
        "@do_twice\n",
        "def greet(name):\n",
        "    print(f\"Hello {name}\")"
      ],
      "metadata": {
        "id": "_o48yeTbz79g"
      },
      "execution_count": 63,
      "outputs": []
    },
    {
      "cell_type": "code",
      "source": [
        "greet(\"Eva\")"
      ],
      "metadata": {
        "colab": {
          "base_uri": "https://localhost:8080/"
        },
        "id": "1t7SSfMP0DZ4",
        "outputId": "05b4ba2e-078a-42b6-e4fc-f1f003a4d07b"
      },
      "execution_count": 64,
      "outputs": [
        {
          "output_type": "stream",
          "name": "stdout",
          "text": [
            "Calling greet('Eva')\n",
            "Hello Eva\n",
            "Hello Eva\n",
            "'greet' returned None\n"
          ]
        }
      ]
    },
    {
      "cell_type": "markdown",
      "source": [
        "## Decorators With Arguments"
      ],
      "metadata": {
        "id": "b_IbNEFT0J2l"
      }
    },
    {
      "cell_type": "code",
      "source": [
        "import functools\n",
        "\n",
        "def repeat(num_times):\n",
        "    def decorator_repeat(func):\n",
        "        @functools.wraps(func)\n",
        "        def wrapper_repeat(*args, **kwargs):\n",
        "            for _ in range(num_times):\n",
        "                value = func(*args, **kwargs)\n",
        "            return value\n",
        "        return wrapper_repeat\n",
        "    return decorator_repeat"
      ],
      "metadata": {
        "id": "HfDSiO5T0QcJ"
      },
      "execution_count": 66,
      "outputs": []
    },
    {
      "cell_type": "code",
      "source": [
        "@repeat(num_times=4)\n",
        "def greet(name):\n",
        "    print(f\"Hello {name}\")"
      ],
      "metadata": {
        "id": "CgZJ_Bfs0F06"
      },
      "execution_count": 67,
      "outputs": []
    },
    {
      "cell_type": "code",
      "source": [
        "greet(\"Sam\")"
      ],
      "metadata": {
        "colab": {
          "base_uri": "https://localhost:8080/"
        },
        "id": "nfFuMtlG0PtZ",
        "outputId": "228f3e0e-140c-4010-87f5-5830b9ecb775"
      },
      "execution_count": 69,
      "outputs": [
        {
          "output_type": "stream",
          "name": "stdout",
          "text": [
            "Hello Sam\n",
            "Hello Sam\n",
            "Hello Sam\n",
            "Hello Sam\n"
          ]
        }
      ]
    },
    {
      "cell_type": "markdown",
      "source": [
        "## Decorators that can optionally take arguments"
      ],
      "metadata": {
        "id": "lMahUTQE0376"
      }
    },
    {
      "cell_type": "code",
      "source": [
        "def repeat(_func=None, *, num_times=2):\n",
        "    def decorator_repeat(func):\n",
        "        @functools.wraps(func)\n",
        "        def wrapper_repeat(*args, **kwargs):\n",
        "            for _ in range(num_times):\n",
        "                value = func(*args, **kwargs)\n",
        "            return value\n",
        "        return wrapper_repeat\n",
        "\n",
        "    if _func is None:\n",
        "        return decorator_repeat\n",
        "    else:\n",
        "        return decorator_repeat(_func)"
      ],
      "metadata": {
        "id": "V7U1eC590lVg"
      },
      "execution_count": 70,
      "outputs": []
    },
    {
      "cell_type": "code",
      "source": [
        "@repeat\n",
        "def say_whee():\n",
        "    print(\"Whee!\")\n",
        "\n",
        "@repeat(num_times=3)\n",
        "def greet(name):\n",
        "    print(f\"Hello {name}\")"
      ],
      "metadata": {
        "id": "VNppeKPG05p_"
      },
      "execution_count": 71,
      "outputs": []
    },
    {
      "cell_type": "code",
      "source": [
        "say_whee()"
      ],
      "metadata": {
        "colab": {
          "base_uri": "https://localhost:8080/"
        },
        "id": "boo3ePO-07fa",
        "outputId": "ede6deed-f265-459e-ca79-1eb1ea023f29"
      },
      "execution_count": 72,
      "outputs": [
        {
          "output_type": "stream",
          "name": "stdout",
          "text": [
            "Whee!\n",
            "Whee!\n"
          ]
        }
      ]
    },
    {
      "cell_type": "code",
      "source": [
        "greet(\"Sam\")"
      ],
      "metadata": {
        "colab": {
          "base_uri": "https://localhost:8080/"
        },
        "id": "OoY1v41_08_C",
        "outputId": "f0a501b6-c0a3-4af5-beb7-25023595ba3e"
      },
      "execution_count": 73,
      "outputs": [
        {
          "output_type": "stream",
          "name": "stdout",
          "text": [
            "Hello Sam\n",
            "Hello Sam\n",
            "Hello Sam\n"
          ]
        }
      ]
    },
    {
      "cell_type": "markdown",
      "source": [
        "## Stateful Decorators\n",
        "\n",
        "-  it’s useful to have a decorator that can keep track of state\n",
        "- we will create a decorator that counts the number of times a function is called"
      ],
      "metadata": {
        "id": "fl1zt6-01BFp"
      }
    },
    {
      "cell_type": "code",
      "source": [
        "import functools\n",
        "\n",
        "def count_calls(func):\n",
        "    @functools.wraps(func)\n",
        "    def wrapper_count_calls(*args, **kwargs):\n",
        "        wrapper_count_calls.num_calls += 1\n",
        "        print(f\"Call {wrapper_count_calls.num_calls} of {func.__name__!r}\")\n",
        "        return func(*args, **kwargs)\n",
        "    wrapper_count_calls.num_calls = 0\n",
        "    return wrapper_count_calls\n",
        "\n",
        "@count_calls\n",
        "def say_whee():\n",
        "    print(\"Whee!\")"
      ],
      "metadata": {
        "id": "qsDRHrU30-81"
      },
      "execution_count": 74,
      "outputs": []
    },
    {
      "cell_type": "code",
      "source": [
        "say_whee()"
      ],
      "metadata": {
        "colab": {
          "base_uri": "https://localhost:8080/"
        },
        "id": "WY9P_yoH1H1U",
        "outputId": "ad402ce6-efef-4aae-fc69-921e6f2b767d"
      },
      "execution_count": 75,
      "outputs": [
        {
          "output_type": "stream",
          "name": "stdout",
          "text": [
            "Call 1 of 'say_whee'\n",
            "Whee!\n"
          ]
        }
      ]
    },
    {
      "cell_type": "code",
      "source": [
        "say_whee()"
      ],
      "metadata": {
        "colab": {
          "base_uri": "https://localhost:8080/"
        },
        "id": "4DGsd_g11JtN",
        "outputId": "d778bc6d-eff6-427a-8c01-0668eafde30c"
      },
      "execution_count": 76,
      "outputs": [
        {
          "output_type": "stream",
          "name": "stdout",
          "text": [
            "Call 2 of 'say_whee'\n",
            "Whee!\n"
          ]
        }
      ]
    },
    {
      "cell_type": "markdown",
      "source": [
        "## Classes as Decorators"
      ],
      "metadata": {
        "id": "aUry5AWL1Mal"
      }
    },
    {
      "cell_type": "code",
      "source": [
        "class Counter:\n",
        "    def __init__(self, start=0):\n",
        "        self.count = start\n",
        "\n",
        "    def __call__(self):\n",
        "        self.count += 1\n",
        "        print(f\"Current count is {self.count}\")"
      ],
      "metadata": {
        "id": "couLRnIG1KC_"
      },
      "execution_count": 77,
      "outputs": []
    },
    {
      "cell_type": "code",
      "source": [
        "counter = Counter()\n",
        "counter()"
      ],
      "metadata": {
        "colab": {
          "base_uri": "https://localhost:8080/"
        },
        "id": "nBcp0e1C1OT4",
        "outputId": "09b5e010-fc7d-4c72-f78a-89e646888d06"
      },
      "execution_count": 78,
      "outputs": [
        {
          "output_type": "stream",
          "name": "stdout",
          "text": [
            "Current count is 1\n"
          ]
        }
      ]
    },
    {
      "cell_type": "code",
      "source": [
        "counter()"
      ],
      "metadata": {
        "colab": {
          "base_uri": "https://localhost:8080/"
        },
        "id": "j7zCAkjl1RNJ",
        "outputId": "af37ad05-7e01-4433-918f-e2ada639ecab"
      },
      "execution_count": 79,
      "outputs": [
        {
          "output_type": "stream",
          "name": "stdout",
          "text": [
            "Current count is 2\n"
          ]
        }
      ]
    },
    {
      "cell_type": "markdown",
      "source": [
        "## Singleton Class"
      ],
      "metadata": {
        "id": "jQAw8u8b1UyF"
      }
    },
    {
      "cell_type": "code",
      "source": [
        "import functools\n",
        "\n",
        "def singleton(cls):\n",
        "    \"\"\"Make a class a Singleton class (only one instance)\"\"\"\n",
        "    @functools.wraps(cls)\n",
        "    def wrapper_singleton(*args, **kwargs):\n",
        "        if not wrapper_singleton.instance:\n",
        "            wrapper_singleton.instance = cls(*args, **kwargs)\n",
        "        return wrapper_singleton.instance\n",
        "    wrapper_singleton.instance = None\n",
        "    return wrapper_singleton\n",
        "\n",
        "@singleton\n",
        "class TheOne:\n",
        "    pass"
      ],
      "metadata": {
        "id": "_84JzPRu1Rim"
      },
      "execution_count": 80,
      "outputs": []
    },
    {
      "cell_type": "code",
      "source": [
        "first_one = TheOne()\n",
        "another_one = TheOne()"
      ],
      "metadata": {
        "id": "Ut_4L-Lg1dGT"
      },
      "execution_count": 81,
      "outputs": []
    },
    {
      "cell_type": "code",
      "source": [
        "id(first_one)"
      ],
      "metadata": {
        "colab": {
          "base_uri": "https://localhost:8080/"
        },
        "id": "PwEhqjnG1crl",
        "outputId": "ee5f398b-2001-47a8-d15a-2b6212b1aeb6"
      },
      "execution_count": 82,
      "outputs": [
        {
          "output_type": "execute_result",
          "data": {
            "text/plain": [
              "138714200807200"
            ]
          },
          "metadata": {},
          "execution_count": 82
        }
      ]
    },
    {
      "cell_type": "code",
      "source": [
        "id(another_one)"
      ],
      "metadata": {
        "colab": {
          "base_uri": "https://localhost:8080/"
        },
        "id": "t6CrR7uO1gJD",
        "outputId": "63323f98-9daa-425b-b5bb-c9b568ebe39b"
      },
      "execution_count": 83,
      "outputs": [
        {
          "output_type": "execute_result",
          "data": {
            "text/plain": [
              "138714200807200"
            ]
          },
          "metadata": {},
          "execution_count": 83
        }
      ]
    },
    {
      "cell_type": "code",
      "source": [
        "first_one is another_one"
      ],
      "metadata": {
        "colab": {
          "base_uri": "https://localhost:8080/"
        },
        "id": "CmxfS5lB1Ylr",
        "outputId": "34414189-a8b4-47ca-9a99-b09ca79e5053"
      },
      "execution_count": 84,
      "outputs": [
        {
          "output_type": "execute_result",
          "data": {
            "text/plain": [
              "True"
            ]
          },
          "metadata": {},
          "execution_count": 84
        }
      ]
    }
  ]
}