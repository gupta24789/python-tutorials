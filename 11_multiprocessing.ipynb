{
  "nbformat": 4,
  "nbformat_minor": 0,
  "metadata": {
    "colab": {
      "provenance": [],
      "authorship_tag": "ABX9TyMlY33tnFEg5/IqeAlUxn4O",
      "include_colab_link": true
    },
    "kernelspec": {
      "name": "python3",
      "display_name": "Python 3"
    },
    "language_info": {
      "name": "python"
    }
  },
  "cells": [
    {
      "cell_type": "markdown",
      "metadata": {
        "id": "view-in-github",
        "colab_type": "text"
      },
      "source": [
        "<a href=\"https://colab.research.google.com/github/gupta24789/python-tutorials/blob/main/11_multiprocessing.ipynb\" target=\"_parent\"><img src=\"https://colab.research.google.com/assets/colab-badge.svg\" alt=\"Open In Colab\"/></a>"
      ]
    },
    {
      "cell_type": "code",
      "source": [
        "import time\n",
        "import functools\n",
        "from joblib import Parallel, delayed"
      ],
      "metadata": {
        "id": "sCxJrgIM3sLQ"
      },
      "execution_count": 1,
      "outputs": []
    },
    {
      "cell_type": "code",
      "source": [
        "import multiprocessing\n",
        "print(\"Number of cpu : \",multiprocessing.cpu_count())"
      ],
      "metadata": {
        "colab": {
          "base_uri": "https://localhost:8080/"
        },
        "id": "CujH8XkU53V7",
        "outputId": "f56eb24d-1404-4396-a594-92d76f2b7a60"
      },
      "execution_count": 2,
      "outputs": [
        {
          "output_type": "stream",
          "name": "stdout",
          "text": [
            "Number of cpu :  2\n"
          ]
        }
      ]
    },
    {
      "cell_type": "code",
      "execution_count": 3,
      "metadata": {
        "id": "qX452nSZ121c"
      },
      "outputs": [],
      "source": [
        "## Decorator timer\n",
        "def timer(func):\n",
        "\n",
        "  @functools.wraps(func)\n",
        "  def wrapper(*args, **kwargs):\n",
        "    start_time = time.time()\n",
        "    result = func(*args, **kwargs)\n",
        "    end_time = time.time()\n",
        "    print(f\"Time taken : {end_time - start_time:.4f} sec.\")\n",
        "    return result\n",
        "\n",
        "  return wrapper"
      ]
    },
    {
      "cell_type": "code",
      "source": [
        "def square(item):\n",
        "  \"\"\"\n",
        "  return item * item\n",
        "  \"\"\"\n",
        "  time.sleep(1)\n",
        "  return item**2\n",
        "\n",
        "\n",
        "@timer\n",
        "def list_square(mylist):\n",
        "  result = []\n",
        "  for i in mylist:\n",
        "    result.append(square(i))\n",
        "\n",
        "  return result\n",
        "\n",
        "@timer\n",
        "def get_square_multithreading():\n",
        "  result = Parallel(n_jobs=2, backend='threading')(delayed(square)(item) for item in mylist)\n",
        "  return result\n",
        "\n",
        "@timer\n",
        "def get_square_multiprocessing():\n",
        "  result = Parallel(n_jobs=2, backend='multiprocessing')(delayed(square)(item) for item in mylist)\n",
        "  return result"
      ],
      "metadata": {
        "id": "GPf9KwBE2gZY"
      },
      "execution_count": 4,
      "outputs": []
    },
    {
      "cell_type": "code",
      "source": [
        "## Create the list\n",
        "mylist = list(range(1, 10))\n",
        "\n",
        "## Sequential\n",
        "print(\"Sequential :\")\n",
        "result = list_square(mylist)\n",
        "\n",
        "## Parallel\n",
        "print(\"Multithreading :\")\n",
        "result = get_square_multithreading()\n",
        "\n",
        "## Parallel\n",
        "print(\"MultiProcessing :\")\n",
        "result = get_square_multiprocessing()"
      ],
      "metadata": {
        "colab": {
          "base_uri": "https://localhost:8080/"
        },
        "id": "ZnsUt3YY2qLf",
        "outputId": "e5a6bb6f-b368-4a19-9aa8-86876b6d2c62"
      },
      "execution_count": 5,
      "outputs": [
        {
          "output_type": "stream",
          "name": "stdout",
          "text": [
            "Sequential :\n",
            "Time taken : 9.0143 sec.\n",
            "Multithreading :\n",
            "Time taken : 5.0304 sec.\n",
            "MultiProcessing :\n",
            "Time taken : 5.5029 sec.\n"
          ]
        }
      ]
    },
    {
      "cell_type": "code",
      "source": [],
      "metadata": {
        "id": "aq80cOeq6-pU"
      },
      "execution_count": 5,
      "outputs": []
    }
  ]
}